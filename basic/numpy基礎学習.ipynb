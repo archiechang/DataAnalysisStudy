{
  "nbformat": 4,
  "nbformat_minor": 0,
  "metadata": {
    "colab": {
      "provenance": [],
      "authorship_tag": "ABX9TyPt57bnt3Mh8xou9p2IF69V",
      "include_colab_link": true
    },
    "kernelspec": {
      "name": "python3",
      "display_name": "Python 3"
    }
  },
  "cells": [
    {
      "cell_type": "markdown",
      "metadata": {
        "id": "view-in-github",
        "colab_type": "text"
      },
      "source": [
        "<a href=\"https://colab.research.google.com/github/archiechang/study/blob/master/adhoc/numpy%E5%9F%BA%E7%A4%8E%E5%AD%A6%E7%BF%92.ipynb\" target=\"_parent\"><img src=\"https://colab.research.google.com/assets/colab-badge.svg\" alt=\"Open In Colab\"/></a>"
      ]
    },
    {
      "cell_type": "code",
      "metadata": {
        "id": "JwmxxrzyJedd"
      },
      "source": [
        "import numpy as np"
      ],
      "execution_count": null,
      "outputs": []
    },
    {
      "cell_type": "markdown",
      "metadata": {
        "id": "suzxpD7ONXhb"
      },
      "source": [
        "# 基礎文法\n"
      ]
    },
    {
      "cell_type": "code",
      "metadata": {
        "id": "-pWHcN3RJz0A",
        "outputId": "95339039-9848-4d68-eb3e-2d720da449fe",
        "colab": {
          "base_uri": "https://localhost:8080/",
          "height": 34
        }
      },
      "source": [
        "my_list1 = [1,2,3,4]\n",
        "my_array1 = np.array(my_list1)\n",
        "my_array1"
      ],
      "execution_count": null,
      "outputs": [
        {
          "output_type": "execute_result",
          "data": {
            "text/plain": [
              "array([1, 2, 3, 4])"
            ]
          },
          "metadata": {
            "tags": []
          },
          "execution_count": 2
        }
      ]
    },
    {
      "cell_type": "code",
      "metadata": {
        "id": "PRBQB5F8KC8N",
        "outputId": "d9db8ae4-fa11-474b-e9f2-d8e6c8b735f2",
        "colab": {
          "base_uri": "https://localhost:8080/",
          "height": 51
        }
      },
      "source": [
        "my_list2=[11,22,33,44]\n",
        "my_lists =[my_list1,my_list2]\n",
        "my_array2=np.array(my_lists)\n",
        "my_array2"
      ],
      "execution_count": null,
      "outputs": [
        {
          "output_type": "execute_result",
          "data": {
            "text/plain": [
              "array([[ 1,  2,  3,  4],\n",
              "       [11, 22, 33, 44]])"
            ]
          },
          "metadata": {
            "tags": []
          },
          "execution_count": 3
        }
      ]
    },
    {
      "cell_type": "code",
      "metadata": {
        "id": "zBMTLH2fKooT",
        "outputId": "91ebc34f-8306-4e60-c3c7-b340678ca037",
        "colab": {
          "base_uri": "https://localhost:8080/",
          "height": 34
        }
      },
      "source": [
        "# アレイのサイズを確認する\n",
        "my_array2.shape"
      ],
      "execution_count": null,
      "outputs": [
        {
          "output_type": "execute_result",
          "data": {
            "text/plain": [
              "(2, 4)"
            ]
          },
          "metadata": {
            "tags": []
          },
          "execution_count": 4
        }
      ]
    },
    {
      "cell_type": "code",
      "metadata": {
        "id": "NhXA8LuALOmV",
        "outputId": "1f0ffd4e-c759-4c8d-d895-d6a20975c5e0",
        "colab": {
          "base_uri": "https://localhost:8080/",
          "height": 34
        }
      },
      "source": [
        "# アレイのデータタイプ\n",
        "my_array2.dtype"
      ],
      "execution_count": null,
      "outputs": [
        {
          "output_type": "execute_result",
          "data": {
            "text/plain": [
              "dtype('int64')"
            ]
          },
          "metadata": {
            "tags": []
          },
          "execution_count": 5
        }
      ]
    },
    {
      "cell_type": "code",
      "metadata": {
        "id": "cNmn38BbLlGp",
        "outputId": "4cafffc7-6ee2-4bf5-fb9b-5ec47bb32d6f",
        "colab": {
          "base_uri": "https://localhost:8080/",
          "height": 34
        }
      },
      "source": [
        "# ゼロ関数\n",
        "np.zeros(5)"
      ],
      "execution_count": null,
      "outputs": [
        {
          "output_type": "execute_result",
          "data": {
            "text/plain": [
              "array([0., 0., 0., 0., 0.])"
            ]
          },
          "metadata": {
            "tags": []
          },
          "execution_count": 6
        }
      ]
    },
    {
      "cell_type": "code",
      "metadata": {
        "id": "LHxo0Y3vLuux",
        "outputId": "cc19b8e0-7db2-438f-c3ef-0e65210ef7a8",
        "colab": {
          "base_uri": "https://localhost:8080/",
          "height": 102
        }
      },
      "source": [
        "# 1の関数\n",
        "np.ones((5,5))"
      ],
      "execution_count": null,
      "outputs": [
        {
          "output_type": "execute_result",
          "data": {
            "text/plain": [
              "array([[1., 1., 1., 1., 1.],\n",
              "       [1., 1., 1., 1., 1.],\n",
              "       [1., 1., 1., 1., 1.],\n",
              "       [1., 1., 1., 1., 1.],\n",
              "       [1., 1., 1., 1., 1.]])"
            ]
          },
          "metadata": {
            "tags": []
          },
          "execution_count": 7
        }
      ]
    },
    {
      "cell_type": "code",
      "metadata": {
        "id": "xhfiqsMBL1gQ",
        "outputId": "e77a1b61-0695-49e9-a604-c570b34c7743",
        "colab": {
          "base_uri": "https://localhost:8080/",
          "height": 102
        }
      },
      "source": [
        "# すべての要素が空のアレイ　※必ず全部ゼロとは限りません\n",
        "np.empty((5,3))"
      ],
      "execution_count": null,
      "outputs": [
        {
          "output_type": "execute_result",
          "data": {
            "text/plain": [
              "array([[1.64170821e-316, 1.01855798e-312, 1.01855798e-312],\n",
              "       [9.54898106e-313, 1.10343781e-312, 1.01855798e-312],\n",
              "       [1.23075756e-312, 1.10343781e-312, 1.01855798e-312],\n",
              "       [9.76118064e-313, 1.16709769e-312, 1.03977794e-312],\n",
              "       [1.10343781e-312, 2.14321575e-312, 2.14321575e-312]])"
            ]
          },
          "metadata": {
            "tags": []
          },
          "execution_count": 8
        }
      ]
    },
    {
      "cell_type": "code",
      "metadata": {
        "id": "XUPwFZzSMdDb",
        "outputId": "0cfadd92-2079-4e65-d7b4-256be4f3468b",
        "colab": {
          "base_uri": "https://localhost:8080/",
          "height": 102
        }
      },
      "source": [
        "#　単位行列\n",
        "np.eye(5)"
      ],
      "execution_count": null,
      "outputs": [
        {
          "output_type": "execute_result",
          "data": {
            "text/plain": [
              "array([[1., 0., 0., 0., 0.],\n",
              "       [0., 1., 0., 0., 0.],\n",
              "       [0., 0., 1., 0., 0.],\n",
              "       [0., 0., 0., 1., 0.],\n",
              "       [0., 0., 0., 0., 1.]])"
            ]
          },
          "metadata": {
            "tags": []
          },
          "execution_count": 9
        }
      ]
    },
    {
      "cell_type": "markdown",
      "metadata": {
        "id": "loLtAFDINkXo"
      },
      "source": [
        "# 計算"
      ]
    },
    {
      "cell_type": "code",
      "metadata": {
        "id": "M21mbtPHNLne",
        "outputId": "d27c5ad2-821f-49cb-ebc5-441faef4cd0e",
        "colab": {
          "base_uri": "https://localhost:8080/",
          "height": 51
        }
      },
      "source": [
        "# 2*4の行列を定義\n",
        "my_array3 = np.array([[1,2,3,4],[8,9,10,11]])\n",
        "my_array3"
      ],
      "execution_count": null,
      "outputs": [
        {
          "output_type": "execute_result",
          "data": {
            "text/plain": [
              "array([[ 1,  2,  3,  4],\n",
              "       [ 8,  9, 10, 11]])"
            ]
          },
          "metadata": {
            "tags": []
          },
          "execution_count": 10
        }
      ]
    },
    {
      "cell_type": "markdown",
      "metadata": {
        "id": "zZTUqEoSRUZ4"
      },
      "source": [
        "# arrayの添字"
      ]
    },
    {
      "cell_type": "code",
      "metadata": {
        "id": "sX7MyOUkOXSC",
        "colab": {
          "base_uri": "https://localhost:8080/",
          "height": 34
        },
        "outputId": "e52054f1-814a-4b2f-cddb-a03fa0bb8bf1"
      },
      "source": [
        "arr1=np.arange(0,10)\n",
        "arr1"
      ],
      "execution_count": null,
      "outputs": [
        {
          "output_type": "execute_result",
          "data": {
            "text/plain": [
              "array([0, 1, 2, 3, 4, 5, 6, 7, 8, 9])"
            ]
          },
          "metadata": {
            "tags": []
          },
          "execution_count": 11
        }
      ]
    },
    {
      "cell_type": "code",
      "metadata": {
        "id": "XJl7wva6SPCa",
        "colab": {
          "base_uri": "https://localhost:8080/",
          "height": 34
        },
        "outputId": "e66c65aa-4914-4355-cae7-13d2d43bc327"
      },
      "source": [
        "#9番目の要素\n",
        "arr1[8]"
      ],
      "execution_count": null,
      "outputs": [
        {
          "output_type": "execute_result",
          "data": {
            "text/plain": [
              "8"
            ]
          },
          "metadata": {
            "tags": []
          },
          "execution_count": 12
        }
      ]
    },
    {
      "cell_type": "code",
      "metadata": {
        "id": "N7CU8ozwTcc6",
        "colab": {
          "base_uri": "https://localhost:8080/",
          "height": 34
        },
        "outputId": "c5800ad2-2439-4c38-c464-c69897e908aa"
      },
      "source": [
        "#1番目〜9番目の要素\n",
        "arr1[0:8]"
      ],
      "execution_count": null,
      "outputs": [
        {
          "output_type": "execute_result",
          "data": {
            "text/plain": [
              "array([0, 1, 2, 3, 4, 5, 6, 7])"
            ]
          },
          "metadata": {
            "tags": []
          },
          "execution_count": 13
        }
      ]
    },
    {
      "cell_type": "code",
      "metadata": {
        "id": "p3aMx84FUIuP",
        "colab": {
          "base_uri": "https://localhost:8080/",
          "height": 34
        },
        "outputId": "0784187e-cd17-48a3-ebdd-241202d5d1cc"
      },
      "source": [
        "#1~4番目のデータを100にする\n",
        "arr1[0:4]=100\n",
        "arr1"
      ],
      "execution_count": null,
      "outputs": [
        {
          "output_type": "execute_result",
          "data": {
            "text/plain": [
              "array([100, 100, 100, 100,   4,   5,   6,   7,   8,   9])"
            ]
          },
          "metadata": {
            "tags": []
          },
          "execution_count": 14
        }
      ]
    },
    {
      "cell_type": "code",
      "metadata": {
        "id": "7TQeaRq4UfXl",
        "colab": {
          "base_uri": "https://localhost:8080/",
          "height": 34
        },
        "outputId": "63a4a6a9-273a-487e-fd29-f61ce9c9f26c"
      },
      "source": [
        "#アレイのスライスは参照される\n",
        "slice_arr1=arr1[0:4]\n",
        "slice_arr1[:]=99\n",
        "#slice_arr1はarr1を参照しているため、arr1の値も変わります\n",
        "arr1"
      ],
      "execution_count": null,
      "outputs": [
        {
          "output_type": "execute_result",
          "data": {
            "text/plain": [
              "array([99, 99, 99, 99,  4,  5,  6,  7,  8,  9])"
            ]
          },
          "metadata": {
            "tags": []
          },
          "execution_count": 15
        }
      ]
    },
    {
      "cell_type": "code",
      "metadata": {
        "id": "gIQxIHomgDk3",
        "colab": {
          "base_uri": "https://localhost:8080/",
          "height": 34
        },
        "outputId": "3773e9e7-920e-4e08-87b8-158e42b0cbfe"
      },
      "source": [
        "#アレイのコピーは参照されない\n",
        "copy_arr1=arr1.copy()\n",
        "copy_arr1[:]=50\n",
        "arr1"
      ],
      "execution_count": null,
      "outputs": [
        {
          "output_type": "execute_result",
          "data": {
            "text/plain": [
              "array([99, 99, 99, 99,  4,  5,  6,  7,  8,  9])"
            ]
          },
          "metadata": {
            "tags": []
          },
          "execution_count": 16
        }
      ]
    },
    {
      "cell_type": "code",
      "metadata": {
        "id": "pgwNbrR7fU8L",
        "colab": {
          "base_uri": "https://localhost:8080/",
          "height": 68
        },
        "outputId": "56adc8b5-1cda-4fa9-f090-91935f27136e"
      },
      "source": [
        "#二次元array\n",
        "arr1_2d =np.array([[0,1,2,3,4],[10,11,12,13,14],[20,21,22,23,24]])\n",
        "arr1_2d"
      ],
      "execution_count": null,
      "outputs": [
        {
          "output_type": "execute_result",
          "data": {
            "text/plain": [
              "array([[ 0,  1,  2,  3,  4],\n",
              "       [10, 11, 12, 13, 14],\n",
              "       [20, 21, 22, 23, 24]])"
            ]
          },
          "metadata": {
            "tags": []
          },
          "execution_count": 17
        }
      ]
    },
    {
      "cell_type": "code",
      "metadata": {
        "id": "NuyIhNDKVN7f",
        "colab": {
          "base_uri": "https://localhost:8080/",
          "height": 51
        },
        "outputId": "40ac3197-0d62-4d4d-93cd-06d12d805327"
      },
      "source": [
        "#2行目、1列目までの要素を抽出\n",
        "arr1_2d[:2,1:]"
      ],
      "execution_count": null,
      "outputs": [
        {
          "output_type": "execute_result",
          "data": {
            "text/plain": [
              "array([[ 1,  2,  3,  4],\n",
              "       [11, 12, 13, 14]])"
            ]
          },
          "metadata": {
            "tags": []
          },
          "execution_count": 18
        }
      ]
    },
    {
      "cell_type": "markdown",
      "metadata": {
        "id": "3nZHQaT3iPGa"
      },
      "source": [
        "# 行と列の入れ替え"
      ]
    },
    {
      "cell_type": "code",
      "metadata": {
        "id": "jw2OyFVDVVYo",
        "colab": {
          "base_uri": "https://localhost:8080/",
          "height": 68
        },
        "outputId": "952eea1a-b7f7-448a-bd8b-c23a72a47c4f"
      },
      "source": [
        "#3*3の行列を作成する\n",
        "arr2_2d=np.arange(9).reshape(3,3)\n",
        "arr2_2d"
      ],
      "execution_count": null,
      "outputs": [
        {
          "output_type": "execute_result",
          "data": {
            "text/plain": [
              "array([[0, 1, 2],\n",
              "       [3, 4, 5],\n",
              "       [6, 7, 8]])"
            ]
          },
          "metadata": {
            "tags": []
          },
          "execution_count": 21
        }
      ]
    },
    {
      "cell_type": "code",
      "metadata": {
        "id": "rTyf0u4tAQ9S",
        "colab": {
          "base_uri": "https://localhost:8080/",
          "height": 68
        },
        "outputId": "9ca12d2a-88bd-427e-937f-19df95a8d6ba"
      },
      "source": [
        "#行列入れ替え方法①\n",
        "arr2_2d.T"
      ],
      "execution_count": null,
      "outputs": [
        {
          "output_type": "execute_result",
          "data": {
            "text/plain": [
              "array([[0, 3, 6],\n",
              "       [1, 4, 7],\n",
              "       [2, 5, 8]])"
            ]
          },
          "metadata": {
            "tags": []
          },
          "execution_count": 23
        }
      ]
    },
    {
      "cell_type": "code",
      "metadata": {
        "id": "OeKNpyncA7HU",
        "colab": {
          "base_uri": "https://localhost:8080/",
          "height": 68
        },
        "outputId": "6a26a073-9f84-4fe7-86bd-63c82da2f626"
      },
      "source": [
        "#行列入れ替え方法② - transpose() 0は行を意味し、1は列\n",
        "arr2_2d.transpose((1,0))"
      ],
      "execution_count": null,
      "outputs": [
        {
          "output_type": "execute_result",
          "data": {
            "text/plain": [
              "array([[0, 3, 6],\n",
              "       [1, 4, 7],\n",
              "       [2, 5, 8]])"
            ]
          },
          "metadata": {
            "tags": []
          },
          "execution_count": 26
        }
      ]
    },
    {
      "cell_type": "code",
      "metadata": {
        "id": "DJ877It4CrjB",
        "colab": {
          "base_uri": "https://localhost:8080/",
          "height": 68
        },
        "outputId": "df2c61f9-b8cc-463c-8076-4d99573c85fd"
      },
      "source": [
        "#行列入れ替え方法③ - ２つの軸に関して入れ替える\n",
        "arr2_2d.swapaxes(0,1)"
      ],
      "execution_count": null,
      "outputs": [
        {
          "output_type": "execute_result",
          "data": {
            "text/plain": [
              "array([[0, 3, 6],\n",
              "       [1, 4, 7],\n",
              "       [2, 5, 8]])"
            ]
          },
          "metadata": {
            "tags": []
          },
          "execution_count": 28
        }
      ]
    },
    {
      "cell_type": "code",
      "metadata": {
        "id": "O_3Ll1x3FXUf",
        "colab": {
          "base_uri": "https://localhost:8080/",
          "height": 68
        },
        "outputId": "d44e7493-ad32-4426-ff1b-65c3e979b2d1"
      },
      "source": [
        "#行列の内積\n",
        "np.dot(arr2_2d,arr2_2d.T)"
      ],
      "execution_count": null,
      "outputs": [
        {
          "output_type": "execute_result",
          "data": {
            "text/plain": [
              "array([[  5,  14,  23],\n",
              "       [ 14,  50,  86],\n",
              "       [ 23,  86, 149]])"
            ]
          },
          "metadata": {
            "tags": []
          },
          "execution_count": 29
        }
      ]
    },
    {
      "cell_type": "code",
      "metadata": {
        "id": "kphMJRLKGhal",
        "colab": {
          "base_uri": "https://localhost:8080/",
          "height": 153
        },
        "outputId": "5d0bd9e4-9c4c-4719-9eb2-89468a3aca24"
      },
      "source": [
        "#3次元行列\n",
        "arr1_3d=np.arange(12).reshape(3,2,2)\n",
        "arr1_3d"
      ],
      "execution_count": null,
      "outputs": [
        {
          "output_type": "execute_result",
          "data": {
            "text/plain": [
              "array([[[ 0,  1],\n",
              "        [ 2,  3]],\n",
              "\n",
              "       [[ 4,  5],\n",
              "        [ 6,  7]],\n",
              "\n",
              "       [[ 8,  9],\n",
              "        [10, 11]]])"
            ]
          },
          "metadata": {
            "tags": []
          },
          "execution_count": 31
        }
      ]
    },
    {
      "cell_type": "markdown",
      "metadata": {
        "id": "jGK3kniqH8Zu"
      },
      "source": [
        "# アレイを計算するための関数"
      ]
    },
    {
      "cell_type": "code",
      "metadata": {
        "id": "ornF9z7eHaG9",
        "colab": {
          "base_uri": "https://localhost:8080/",
          "height": 51
        },
        "outputId": "d6c82ea9-ba7b-4839-84dd-ad33a097395c"
      },
      "source": [
        "arr_2=np.arange(9)\n"
      ],
      "execution_count": null,
      "outputs": [
        {
          "output_type": "execute_result",
          "data": {
            "text/plain": [
              "array([0.        , 1.        , 1.41421356, 1.73205081, 2.        ,\n",
              "       2.23606798, 2.44948974, 2.64575131, 2.82842712])"
            ]
          },
          "metadata": {
            "tags": []
          },
          "execution_count": 36
        }
      ]
    },
    {
      "cell_type": "code",
      "metadata": {
        "id": "uV0R8rkAHk7d",
        "colab": {
          "base_uri": "https://localhost:8080/",
          "height": 51
        },
        "outputId": "02c8f8eb-e56b-45f1-f6c2-2d03905cdf70"
      },
      "source": [
        "#sqrt\n",
        "np.sqrt(arr_2)"
      ],
      "execution_count": null,
      "outputs": [
        {
          "output_type": "execute_result",
          "data": {
            "text/plain": [
              "array([0.        , 1.        , 1.41421356, 1.73205081, 2.        ,\n",
              "       2.23606798, 2.44948974, 2.64575131, 2.82842712])"
            ]
          },
          "metadata": {
            "tags": []
          },
          "execution_count": 37
        }
      ]
    },
    {
      "cell_type": "code",
      "metadata": {
        "id": "307dPedfIZnf",
        "colab": {
          "base_uri": "https://localhost:8080/",
          "height": 68
        },
        "outputId": "a38d67fe-887d-4f21-dcad-f039fc228db2"
      },
      "source": [
        "#eの何方\n",
        "np.exp(arr_2)"
      ],
      "execution_count": null,
      "outputs": [
        {
          "output_type": "execute_result",
          "data": {
            "text/plain": [
              "array([1.00000000e+00, 2.71828183e+00, 7.38905610e+00, 2.00855369e+01,\n",
              "       5.45981500e+01, 1.48413159e+02, 4.03428793e+02, 1.09663316e+03,\n",
              "       2.98095799e+03])"
            ]
          },
          "metadata": {
            "tags": []
          },
          "execution_count": 38
        }
      ]
    },
    {
      "cell_type": "code",
      "metadata": {
        "id": "Ugw5qe4xImkd",
        "colab": {
          "base_uri": "https://localhost:8080/",
          "height": 51
        },
        "outputId": "8f8df5ea-86b1-43eb-b7e3-fbba4a1fcf4a"
      },
      "source": [
        "#正規分布に従う乱数を作る\n",
        "A_random=np.random.randn(10)\n",
        "A_random"
      ],
      "execution_count": null,
      "outputs": [
        {
          "output_type": "execute_result",
          "data": {
            "text/plain": [
              "array([-0.98673534, -1.18520868,  1.04612187, -1.87887961, -0.2660132 ,\n",
              "        0.36589266,  0.75102943,  0.64858077,  0.10047234,  1.44626016])"
            ]
          },
          "metadata": {
            "tags": []
          },
          "execution_count": 40
        }
      ]
    },
    {
      "cell_type": "code",
      "metadata": {
        "id": "XTOXffzSI_gu",
        "colab": {
          "base_uri": "https://localhost:8080/",
          "height": 51
        },
        "outputId": "fce75930-edde-4955-83f0-529f96c7ef0a"
      },
      "source": [
        "B_random=np.random.randn(10)\n",
        "B_random"
      ],
      "execution_count": null,
      "outputs": [
        {
          "output_type": "execute_result",
          "data": {
            "text/plain": [
              "array([ 0.21634827, -1.15004588,  0.25908908,  0.42225068,  0.76112104,\n",
              "        0.28009388, -1.65272917,  0.33148508,  0.61926331,  1.32760924])"
            ]
          },
          "metadata": {
            "tags": []
          },
          "execution_count": 43
        }
      ]
    },
    {
      "cell_type": "code",
      "metadata": {
        "id": "3HJQJgj_JioV",
        "colab": {
          "base_uri": "https://localhost:8080/",
          "height": 51
        },
        "outputId": "d66bb0cf-1ac9-4952-eb54-d1f70baec88a"
      },
      "source": [
        "#足し算 各項目の足し算となります\n",
        "np.add(A_random,B_random)"
      ],
      "execution_count": null,
      "outputs": [
        {
          "output_type": "execute_result",
          "data": {
            "text/plain": [
              "array([-0.77038707, -2.33525456,  1.30521095, -1.45662894,  0.49510784,\n",
              "        0.64598654, -0.90169974,  0.98006585,  0.71973565,  2.7738694 ])"
            ]
          },
          "metadata": {
            "tags": []
          },
          "execution_count": 44
        }
      ]
    },
    {
      "cell_type": "code",
      "metadata": {
        "id": "GsQNHi6uJmR5",
        "colab": {
          "base_uri": "https://localhost:8080/",
          "height": 51
        },
        "outputId": "0023e46f-2e9e-4cd6-86ec-f3a85ca46dd6"
      },
      "source": [
        "#AとBそれぞれの最大値\n",
        "np.maximum(A_random,B_random)"
      ],
      "execution_count": null,
      "outputs": [
        {
          "output_type": "execute_result",
          "data": {
            "text/plain": [
              "array([ 0.21634827, -1.15004588,  1.04612187,  0.42225068,  0.76112104,\n",
              "        0.36589266,  0.75102943,  0.64858077,  0.61926331,  1.44626016])"
            ]
          },
          "metadata": {
            "tags": []
          },
          "execution_count": 45
        }
      ]
    },
    {
      "cell_type": "markdown",
      "metadata": {
        "id": "JgaX4VJ6KJK8"
      },
      "source": [
        "# numpyのデータ処理"
      ]
    },
    {
      "cell_type": "code",
      "metadata": {
        "id": "mqe0_QCKKUAt"
      },
      "source": [
        "import matplotlib.pyplot as plt\n",
        "%matplotlib inline\n"
      ],
      "execution_count": null,
      "outputs": []
    },
    {
      "cell_type": "code",
      "metadata": {
        "id": "tE96RQhhKwqZ"
      },
      "source": [
        "#0.01刻みのarray作成する\n",
        "points = np.arange(-5,5,0.01)"
      ],
      "execution_count": null,
      "outputs": []
    },
    {
      "cell_type": "code",
      "metadata": {
        "id": "ME7jFWZ9LESI",
        "colab": {
          "base_uri": "https://localhost:8080/",
          "height": 136
        },
        "outputId": "6806e8a1-eab7-4577-f769-d6f0dace3654"
      },
      "source": [
        "#配列の要素から格子列を生成する\n",
        "dx, dy=np.meshgrid(points,points)\n",
        "dx"
      ],
      "execution_count": null,
      "outputs": [
        {
          "output_type": "execute_result",
          "data": {
            "text/plain": [
              "array([[-5.  , -4.99, -4.98, ...,  4.97,  4.98,  4.99],\n",
              "       [-5.  , -4.99, -4.98, ...,  4.97,  4.98,  4.99],\n",
              "       [-5.  , -4.99, -4.98, ...,  4.97,  4.98,  4.99],\n",
              "       ...,\n",
              "       [-5.  , -4.99, -4.98, ...,  4.97,  4.98,  4.99],\n",
              "       [-5.  , -4.99, -4.98, ...,  4.97,  4.98,  4.99],\n",
              "       [-5.  , -4.99, -4.98, ...,  4.97,  4.98,  4.99]])"
            ]
          },
          "metadata": {
            "tags": []
          },
          "execution_count": 52
        }
      ]
    },
    {
      "cell_type": "code",
      "metadata": {
        "id": "RQKG4dqUN8Aj"
      },
      "source": [],
      "execution_count": null,
      "outputs": []
    },
    {
      "cell_type": "code",
      "metadata": {
        "id": "37G4G0mLP0_P",
        "colab": {
          "base_uri": "https://localhost:8080/",
          "height": 298
        },
        "outputId": "8beb33c9-9f83-462b-f4f6-eb98e02810a4"
      },
      "source": [
        "# 値をplotする\n",
        "z=(np.sin(dx))+(np.sin(dy))\n",
        "plt.imshow(z)\n",
        "plt.colorbar()\n",
        "plt.title(\"plot for sin(X)+sin(Y)\")"
      ],
      "execution_count": null,
      "outputs": [
        {
          "output_type": "execute_result",
          "data": {
            "text/plain": [
              "Text(0.5, 1.0, 'plot for sin(X)+sin(Y)')"
            ]
          },
          "metadata": {
            "tags": []
          },
          "execution_count": 56
        },
        {
          "output_type": "display_data",
          "data": {
            "image/png": "[encoded data removed]",
            "text/plain": [
              "<Figure size 432x288 with 2 Axes>"
            ]
          },
          "metadata": {
            "tags": [],
            "needs_background": "light"
          }
        }
      ]
    },
    {
      "cell_type": "code",
      "metadata": {
        "id": "BqdqyRDrQFIM",
        "colab": {
          "base_uri": "https://localhost:8080/",
          "height": 34
        },
        "outputId": "03d45090-901a-478f-da08-4be76e7a63f6"
      },
      "source": [
        "#numpy.where　分岐判定\n",
        "A_1 =np.array([1,2,3,4])\n",
        "B_1 =np.array([1000,2000,3000,4000])\n",
        "condition=np.array([True,True,False,False])\n",
        "#conditionがtrueのときにA_1、falseのときにB_1\n",
        "np.where(condition,A_1,B_1)"
      ],
      "execution_count": null,
      "outputs": [
        {
          "output_type": "execute_result",
          "data": {
            "text/plain": [
              "array([   1,    2, 3000, 4000])"
            ]
          },
          "metadata": {
            "tags": []
          },
          "execution_count": 59
        }
      ]
    },
    {
      "cell_type": "code",
      "metadata": {
        "id": "Ws3po-PeQg5z",
        "colab": {
          "base_uri": "https://localhost:8080/",
          "height": 119
        },
        "outputId": "dabfc588-79b0-4550-db0f-c0f4b8fcb37e"
      },
      "source": [
        "#numpy.sum すべての項目を加算する\n",
        "arr3=np.arange(9).reshape(3,3)\n",
        "print(arr3)\n",
        "print(\"すべての項目値を加算する:\",arr3.sum())\n",
        "print(\"列のみの加算を行う:\",arr3.sum(0))\n",
        "print(\"行のみの加算を行う:\",arr3.sum(1))"
      ],
      "execution_count": null,
      "outputs": [
        {
          "output_type": "stream",
          "text": [
            "[[0 1 2]\n",
            " [3 4 5]\n",
            " [6 7 8]]\n",
            "すべての項目値を加算する: 36\n",
            "列のみの加算を行う: [ 9 12 15]\n",
            "行のみの加算を行う: [ 3 12 21]\n"
          ],
          "name": "stdout"
        }
      ]
    },
    {
      "cell_type": "code",
      "metadata": {
        "id": "c5kJH38ZTBOL",
        "colab": {
          "base_uri": "https://localhost:8080/",
          "height": 34
        },
        "outputId": "6826cee7-6cdf-47e5-c480-f0b7ae0cc475"
      },
      "source": [
        "#平均値\n",
        "arr3.mean()"
      ],
      "execution_count": null,
      "outputs": [
        {
          "output_type": "execute_result",
          "data": {
            "text/plain": [
              "4.0"
            ]
          },
          "metadata": {
            "tags": []
          },
          "execution_count": 72
        }
      ]
    },
    {
      "cell_type": "code",
      "metadata": {
        "id": "gpXVlRJBVn_w",
        "colab": {
          "base_uri": "https://localhost:8080/",
          "height": 34
        },
        "outputId": "2e2a97cd-d6db-40e1-e39a-f873c3c174bb"
      },
      "source": [
        "#標準偏差\n",
        "arr3.std()"
      ],
      "execution_count": null,
      "outputs": [
        {
          "output_type": "execute_result",
          "data": {
            "text/plain": [
              "2.581988897471611"
            ]
          },
          "metadata": {
            "tags": []
          },
          "execution_count": 73
        }
      ]
    },
    {
      "cell_type": "code",
      "metadata": {
        "id": "2VCq63lRVxy_",
        "colab": {
          "base_uri": "https://localhost:8080/",
          "height": 34
        },
        "outputId": "983dd2cd-c739-4c86-a8e5-8fcec630f519"
      },
      "source": [
        "#分散\n",
        "arr3.var()"
      ],
      "execution_count": null,
      "outputs": [
        {
          "output_type": "execute_result",
          "data": {
            "text/plain": [
              "6.666666666666667"
            ]
          },
          "metadata": {
            "tags": []
          },
          "execution_count": 74
        }
      ]
    },
    {
      "cell_type": "code",
      "metadata": {
        "id": "_-NKa-s4V6fm",
        "colab": {
          "base_uri": "https://localhost:8080/",
          "height": 51
        },
        "outputId": "1b3c7ab9-2413-41c5-d2c9-add98280e183"
      },
      "source": [
        "#boolean型判定、anyとall\n",
        "bool_arr =np.array([True,False,True])\n",
        "print(bool_arr.any()) #any→1個以上trueの場合はtrue\n",
        "print(bool_arr.all()) #all→すべてがtrueの場合はtrue"
      ],
      "execution_count": null,
      "outputs": [
        {
          "output_type": "stream",
          "text": [
            "True\n",
            "False\n"
          ],
          "name": "stdout"
        }
      ]
    },
    {
      "cell_type": "code",
      "metadata": {
        "id": "xXg8U7OzYmI1",
        "colab": {
          "base_uri": "https://localhost:8080/",
          "height": 34
        },
        "outputId": "07fd183d-d976-4527-f6f1-cdb24bb4b01b"
      },
      "source": [
        "#重複値の削除、unique\n",
        "unique_arr = np.array([\"A\",\"B\",\"C\",\"D\",\"A\",\"D\"])\n",
        "np.unique(unique_arr)"
      ],
      "execution_count": null,
      "outputs": [
        {
          "output_type": "execute_result",
          "data": {
            "text/plain": [
              "array(['A', 'B', 'C', 'D'], dtype='<U1')"
            ]
          },
          "metadata": {
            "tags": []
          },
          "execution_count": 96
        }
      ]
    },
    {
      "cell_type": "code",
      "metadata": {
        "id": "Anf_UlB5Z3GL",
        "colab": {
          "base_uri": "https://localhost:8080/",
          "height": 34
        },
        "outputId": "f1b50d65-a76f-48cf-f880-6ad569fbc724"
      },
      "source": [
        "#存在チェック、in1d\n",
        "np.in1d([\"A\",\"C\",\"E\"],unique_arr)"
      ],
      "execution_count": null,
      "outputs": [
        {
          "output_type": "execute_result",
          "data": {
            "text/plain": [
              "array([ True,  True, False])"
            ]
          },
          "metadata": {
            "tags": []
          },
          "execution_count": 97
        }
      ]
    },
    {
      "cell_type": "markdown",
      "metadata": {
        "id": "aJ79ehiLapEq"
      },
      "source": [
        "# アレイの出力"
      ]
    },
    {
      "cell_type": "code",
      "metadata": {
        "id": "cWz85ABAarnd"
      },
      "source": [],
      "execution_count": null,
      "outputs": []
    }
  ]
}