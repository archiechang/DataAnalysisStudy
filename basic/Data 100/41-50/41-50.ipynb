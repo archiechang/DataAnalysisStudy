{
  "nbformat": 4,
  "nbformat_minor": 0,
  "metadata": {
    "colab": {
      "name": "41-50.ipynb",
      "provenance": [],
      "authorship_tag": "ABX9TyMfdFpQC3D4/m+b/DTwUSRx",
      "include_colab_link": true
    },
    "kernelspec": {
      "name": "python3",
      "display_name": "Python 3"
    }
  },
  "cells": [
    {
      "cell_type": "markdown",
      "metadata": {
        "id": "view-in-github",
        "colab_type": "text"
      },
      "source": [
        "<a href=\"https://colab.research.google.com/github/archiechang/study/blob/master/Data%20Analytics/Data%20100/41-50/41-50.ipynb\" target=\"_parent\"><img src=\"https://colab.research.google.com/assets/colab-badge.svg\" alt=\"Open In Colab\"/></a>"
      ]
    },
    {
      "cell_type": "code",
      "metadata": {
        "id": "k-52_K7D-WfN"
      },
      "source": [
        "import pandas as pd"
      ],
      "execution_count": 1,
      "outputs": []
    },
    {
      "cell_type": "markdown",
      "metadata": {
        "id": "zUOYAvaV_OqW"
      },
      "source": [
        "# ノック41：データを読み込んで利用データを整形しよう"
      ]
    },
    {
      "cell_type": "code",
      "metadata": {
        "id": "zlxCwB0--qWs"
      },
      "source": [
        "customer=pd.read_csv(\"https://raw.githubusercontent.com/archiechang/study/master/Data%20Analytics/Data%20100/41-50/customer_join.csv\")\n",
        "uselog_months=pd.read_csv(\"https://raw.githubusercontent.com/archiechang/study/master/Data%20Analytics/Data%20100/41-50/use_log_months.csv\")"
      ],
      "execution_count": 2,
      "outputs": []
    },
    {
      "cell_type": "code",
      "metadata": {
        "id": "VgJo7Uv5AvzB",
        "colab": {
          "base_uri": "https://localhost:8080/",
          "height": 1000
        },
        "outputId": "59de04a6-1a44-4441-ccf2-48924e1cbe71"
      },
      "source": [
        "year_months=list(uselog_months[\"年月\"].unique())\n",
        "uselog=pd.DataFrame()\n",
        "for i in range(1,len(year_months)):\n",
        "    tmp=uselog_months.loc[uselog_months[\"年月\"]==year_months[i]]\n",
        "    tmp.rename(columns={\"count\":\"count_0\"},inplace=True)\n",
        "    tmp_before=uselog_months.loc[uselog_months[\"年月\"]==year_months[i-1]]\n",
        "    del tmp_before[\"年月\"]\n",
        "    tmp_before.rename(columns={\"count\":\"count_1\"},inplace=True)\n",
        "    tmp=pd.merge(tmp,tmp_before,on=\"customer_id\",how=\"left\")\n",
        "    uselog=pd.concat([uselog,tmp],ignore_index=True)\n",
        "uselog.head()"
      ],
      "execution_count": 3,
      "outputs": [
        {
          "output_type": "stream",
          "text": [
            "/usr/local/lib/python3.6/dist-packages/pandas/core/frame.py:4308: SettingWithCopyWarning: \n",
            "A value is trying to be set on a copy of a slice from a DataFrame\n",
            "\n",
            "See the caveats in the documentation: https://pandas.pydata.org/pandas-docs/stable/user_guide/indexing.html#returning-a-view-versus-a-copy\n",
            "  errors=errors,\n",
            "/usr/local/lib/python3.6/dist-packages/pandas/core/frame.py:4308: SettingWithCopyWarning: \n",
            "A value is trying to be set on a copy of a slice from a DataFrame\n",
            "\n",
            "See the caveats in the documentation: https://pandas.pydata.org/pandas-docs/stable/user_guide/indexing.html#returning-a-view-versus-a-copy\n",
            "  errors=errors,\n",
            "/usr/local/lib/python3.6/dist-packages/pandas/core/frame.py:4308: SettingWithCopyWarning: \n",
            "A value is trying to be set on a copy of a slice from a DataFrame\n",
            "\n",
            "See the caveats in the documentation: https://pandas.pydata.org/pandas-docs/stable/user_guide/indexing.html#returning-a-view-versus-a-copy\n",
            "  errors=errors,\n",
            "/usr/local/lib/python3.6/dist-packages/pandas/core/frame.py:4308: SettingWithCopyWarning: \n",
            "A value is trying to be set on a copy of a slice from a DataFrame\n",
            "\n",
            "See the caveats in the documentation: https://pandas.pydata.org/pandas-docs/stable/user_guide/indexing.html#returning-a-view-versus-a-copy\n",
            "  errors=errors,\n",
            "/usr/local/lib/python3.6/dist-packages/pandas/core/frame.py:4308: SettingWithCopyWarning: \n",
            "A value is trying to be set on a copy of a slice from a DataFrame\n",
            "\n",
            "See the caveats in the documentation: https://pandas.pydata.org/pandas-docs/stable/user_guide/indexing.html#returning-a-view-versus-a-copy\n",
            "  errors=errors,\n",
            "/usr/local/lib/python3.6/dist-packages/pandas/core/frame.py:4308: SettingWithCopyWarning: \n",
            "A value is trying to be set on a copy of a slice from a DataFrame\n",
            "\n",
            "See the caveats in the documentation: https://pandas.pydata.org/pandas-docs/stable/user_guide/indexing.html#returning-a-view-versus-a-copy\n",
            "  errors=errors,\n",
            "/usr/local/lib/python3.6/dist-packages/pandas/core/frame.py:4308: SettingWithCopyWarning: \n",
            "A value is trying to be set on a copy of a slice from a DataFrame\n",
            "\n",
            "See the caveats in the documentation: https://pandas.pydata.org/pandas-docs/stable/user_guide/indexing.html#returning-a-view-versus-a-copy\n",
            "  errors=errors,\n",
            "/usr/local/lib/python3.6/dist-packages/pandas/core/frame.py:4308: SettingWithCopyWarning: \n",
            "A value is trying to be set on a copy of a slice from a DataFrame\n",
            "\n",
            "See the caveats in the documentation: https://pandas.pydata.org/pandas-docs/stable/user_guide/indexing.html#returning-a-view-versus-a-copy\n",
            "  errors=errors,\n",
            "/usr/local/lib/python3.6/dist-packages/pandas/core/frame.py:4308: SettingWithCopyWarning: \n",
            "A value is trying to be set on a copy of a slice from a DataFrame\n",
            "\n",
            "See the caveats in the documentation: https://pandas.pydata.org/pandas-docs/stable/user_guide/indexing.html#returning-a-view-versus-a-copy\n",
            "  errors=errors,\n",
            "/usr/local/lib/python3.6/dist-packages/pandas/core/frame.py:4308: SettingWithCopyWarning: \n",
            "A value is trying to be set on a copy of a slice from a DataFrame\n",
            "\n",
            "See the caveats in the documentation: https://pandas.pydata.org/pandas-docs/stable/user_guide/indexing.html#returning-a-view-versus-a-copy\n",
            "  errors=errors,\n",
            "/usr/local/lib/python3.6/dist-packages/pandas/core/frame.py:4308: SettingWithCopyWarning: \n",
            "A value is trying to be set on a copy of a slice from a DataFrame\n",
            "\n",
            "See the caveats in the documentation: https://pandas.pydata.org/pandas-docs/stable/user_guide/indexing.html#returning-a-view-versus-a-copy\n",
            "  errors=errors,\n",
            "/usr/local/lib/python3.6/dist-packages/pandas/core/frame.py:4308: SettingWithCopyWarning: \n",
            "A value is trying to be set on a copy of a slice from a DataFrame\n",
            "\n",
            "See the caveats in the documentation: https://pandas.pydata.org/pandas-docs/stable/user_guide/indexing.html#returning-a-view-versus-a-copy\n",
            "  errors=errors,\n",
            "/usr/local/lib/python3.6/dist-packages/pandas/core/frame.py:4308: SettingWithCopyWarning: \n",
            "A value is trying to be set on a copy of a slice from a DataFrame\n",
            "\n",
            "See the caveats in the documentation: https://pandas.pydata.org/pandas-docs/stable/user_guide/indexing.html#returning-a-view-versus-a-copy\n",
            "  errors=errors,\n",
            "/usr/local/lib/python3.6/dist-packages/pandas/core/frame.py:4308: SettingWithCopyWarning: \n",
            "A value is trying to be set on a copy of a slice from a DataFrame\n",
            "\n",
            "See the caveats in the documentation: https://pandas.pydata.org/pandas-docs/stable/user_guide/indexing.html#returning-a-view-versus-a-copy\n",
            "  errors=errors,\n",
            "/usr/local/lib/python3.6/dist-packages/pandas/core/frame.py:4308: SettingWithCopyWarning: \n",
            "A value is trying to be set on a copy of a slice from a DataFrame\n",
            "\n",
            "See the caveats in the documentation: https://pandas.pydata.org/pandas-docs/stable/user_guide/indexing.html#returning-a-view-versus-a-copy\n",
            "  errors=errors,\n",
            "/usr/local/lib/python3.6/dist-packages/pandas/core/frame.py:4308: SettingWithCopyWarning: \n",
            "A value is trying to be set on a copy of a slice from a DataFrame\n",
            "\n",
            "See the caveats in the documentation: https://pandas.pydata.org/pandas-docs/stable/user_guide/indexing.html#returning-a-view-versus-a-copy\n",
            "  errors=errors,\n",
            "/usr/local/lib/python3.6/dist-packages/pandas/core/frame.py:4308: SettingWithCopyWarning: \n",
            "A value is trying to be set on a copy of a slice from a DataFrame\n",
            "\n",
            "See the caveats in the documentation: https://pandas.pydata.org/pandas-docs/stable/user_guide/indexing.html#returning-a-view-versus-a-copy\n",
            "  errors=errors,\n",
            "/usr/local/lib/python3.6/dist-packages/pandas/core/frame.py:4308: SettingWithCopyWarning: \n",
            "A value is trying to be set on a copy of a slice from a DataFrame\n",
            "\n",
            "See the caveats in the documentation: https://pandas.pydata.org/pandas-docs/stable/user_guide/indexing.html#returning-a-view-versus-a-copy\n",
            "  errors=errors,\n",
            "/usr/local/lib/python3.6/dist-packages/pandas/core/frame.py:4308: SettingWithCopyWarning: \n",
            "A value is trying to be set on a copy of a slice from a DataFrame\n",
            "\n",
            "See the caveats in the documentation: https://pandas.pydata.org/pandas-docs/stable/user_guide/indexing.html#returning-a-view-versus-a-copy\n",
            "  errors=errors,\n",
            "/usr/local/lib/python3.6/dist-packages/pandas/core/frame.py:4308: SettingWithCopyWarning: \n",
            "A value is trying to be set on a copy of a slice from a DataFrame\n",
            "\n",
            "See the caveats in the documentation: https://pandas.pydata.org/pandas-docs/stable/user_guide/indexing.html#returning-a-view-versus-a-copy\n",
            "  errors=errors,\n",
            "/usr/local/lib/python3.6/dist-packages/pandas/core/frame.py:4308: SettingWithCopyWarning: \n",
            "A value is trying to be set on a copy of a slice from a DataFrame\n",
            "\n",
            "See the caveats in the documentation: https://pandas.pydata.org/pandas-docs/stable/user_guide/indexing.html#returning-a-view-versus-a-copy\n",
            "  errors=errors,\n",
            "/usr/local/lib/python3.6/dist-packages/pandas/core/frame.py:4308: SettingWithCopyWarning: \n",
            "A value is trying to be set on a copy of a slice from a DataFrame\n",
            "\n",
            "See the caveats in the documentation: https://pandas.pydata.org/pandas-docs/stable/user_guide/indexing.html#returning-a-view-versus-a-copy\n",
            "  errors=errors,\n"
          ],
          "name": "stderr"
        },
        {
          "output_type": "execute_result",
          "data": {
            "text/html": [
              "<div>\n",
              "<style scoped>\n",
              "    .dataframe tbody tr th:only-of-type {\n",
              "        vertical-align: middle;\n",
              "    }\n",
              "\n",
              "    .dataframe tbody tr th {\n",
              "        vertical-align: top;\n",
              "    }\n",
              "\n",
              "    .dataframe thead th {\n",
              "        text-align: right;\n",
              "    }\n",
              "</style>\n",
              "<table border=\"1\" class=\"dataframe\">\n",
              "  <thead>\n",
              "    <tr style=\"text-align: right;\">\n",
              "      <th></th>\n",
              "      <th>年月</th>\n",
              "      <th>customer_id</th>\n",
              "      <th>count_0</th>\n",
              "      <th>count_1</th>\n",
              "    </tr>\n",
              "  </thead>\n",
              "  <tbody>\n",
              "    <tr>\n",
              "      <th>0</th>\n",
              "      <td>201805</td>\n",
              "      <td>AS002855</td>\n",
              "      <td>5</td>\n",
              "      <td>4.0</td>\n",
              "    </tr>\n",
              "    <tr>\n",
              "      <th>1</th>\n",
              "      <td>201805</td>\n",
              "      <td>AS009373</td>\n",
              "      <td>4</td>\n",
              "      <td>3.0</td>\n",
              "    </tr>\n",
              "    <tr>\n",
              "      <th>2</th>\n",
              "      <td>201805</td>\n",
              "      <td>AS015233</td>\n",
              "      <td>7</td>\n",
              "      <td>NaN</td>\n",
              "    </tr>\n",
              "    <tr>\n",
              "      <th>3</th>\n",
              "      <td>201805</td>\n",
              "      <td>AS015315</td>\n",
              "      <td>3</td>\n",
              "      <td>6.0</td>\n",
              "    </tr>\n",
              "    <tr>\n",
              "      <th>4</th>\n",
              "      <td>201805</td>\n",
              "      <td>AS015739</td>\n",
              "      <td>5</td>\n",
              "      <td>7.0</td>\n",
              "    </tr>\n",
              "  </tbody>\n",
              "</table>\n",
              "</div>"
            ],
            "text/plain": [
              "       年月 customer_id  count_0  count_1\n",
              "0  201805    AS002855        5      4.0\n",
              "1  201805    AS009373        4      3.0\n",
              "2  201805    AS015233        7      NaN\n",
              "3  201805    AS015315        3      6.0\n",
              "4  201805    AS015739        5      7.0"
            ]
          },
          "metadata": {
            "tags": []
          },
          "execution_count": 3
        }
      ]
    },
    {
      "cell_type": "markdown",
      "metadata": {
        "id": "HR5mh4AcECna"
      },
      "source": [
        "# ノック42：退会前月の退会顧客データを作成しよう"
      ]
    },
    {
      "cell_type": "code",
      "metadata": {
        "id": "yq80fnNYBOrs"
      },
      "source": [
        "from dateutil.relativedelta import relativedelta"
      ],
      "execution_count": 4,
      "outputs": []
    },
    {
      "cell_type": "code",
      "metadata": {
        "id": "Nangq_m3DZUq",
        "colab": {
          "base_uri": "https://localhost:8080/",
          "height": 717
        },
        "outputId": "2ce0b998-9327-4281-9b3d-b199304adce8"
      },
      "source": [
        "exit_customer=customer.loc[customer[\"is_deleted\"]==1]\n",
        "exit_customer[\"exit_date\"]=None\n",
        "exit_customer[\"end_date\"]=pd.to_datetime(exit_customer[\"end_date\"])\n",
        "for i in range(len(exit_customer)):\n",
        "    exit_customer[\"exit_date\"].iloc[i]=exit_customer[\"end_date\"].iloc[i]-relativedelta(months=1)\n",
        "exit_customer[\"年月\"]=pd.to_datetime(exit_customer[\"exit_date\"]).dt.strftime(\"%Y%m\")\n",
        "#exit_customer[\"年月\"]=exit_customer[\"年月\"].dt.strftime(\"%Y%m\")\n",
        "uselog[\"年月\"]=uselog[\"年月\"].astype(str)\n",
        "exit_uselog=pd.merge(uselog,exit_customer,on=[\"customer_id\",\"年月\"],how=\"left\")\n",
        "print(len(uselog))\n",
        "exit_uselog.head()\n"
      ],
      "execution_count": 5,
      "outputs": [
        {
          "output_type": "stream",
          "text": [
            "/usr/local/lib/python3.6/dist-packages/ipykernel_launcher.py:2: SettingWithCopyWarning: \n",
            "A value is trying to be set on a copy of a slice from a DataFrame.\n",
            "Try using .loc[row_indexer,col_indexer] = value instead\n",
            "\n",
            "See the caveats in the documentation: https://pandas.pydata.org/pandas-docs/stable/user_guide/indexing.html#returning-a-view-versus-a-copy\n",
            "  \n",
            "/usr/local/lib/python3.6/dist-packages/ipykernel_launcher.py:3: SettingWithCopyWarning: \n",
            "A value is trying to be set on a copy of a slice from a DataFrame.\n",
            "Try using .loc[row_indexer,col_indexer] = value instead\n",
            "\n",
            "See the caveats in the documentation: https://pandas.pydata.org/pandas-docs/stable/user_guide/indexing.html#returning-a-view-versus-a-copy\n",
            "  This is separate from the ipykernel package so we can avoid doing imports until\n",
            "/usr/local/lib/python3.6/dist-packages/pandas/core/indexing.py:670: SettingWithCopyWarning: \n",
            "A value is trying to be set on a copy of a slice from a DataFrame\n",
            "\n",
            "See the caveats in the documentation: https://pandas.pydata.org/pandas-docs/stable/user_guide/indexing.html#returning-a-view-versus-a-copy\n",
            "  iloc._setitem_with_indexer(indexer, value)\n",
            "/usr/local/lib/python3.6/dist-packages/ipykernel_launcher.py:5: SettingWithCopyWarning: \n",
            "A value is trying to be set on a copy of a slice from a DataFrame\n",
            "\n",
            "See the caveats in the documentation: https://pandas.pydata.org/pandas-docs/stable/user_guide/indexing.html#returning-a-view-versus-a-copy\n",
            "  \"\"\"\n"
          ],
          "name": "stderr"
        },
        {
          "output_type": "stream",
          "text": [
            "33851\n"
          ],
          "name": "stdout"
        },
        {
          "output_type": "stream",
          "text": [
            "/usr/local/lib/python3.6/dist-packages/ipykernel_launcher.py:6: SettingWithCopyWarning: \n",
            "A value is trying to be set on a copy of a slice from a DataFrame.\n",
            "Try using .loc[row_indexer,col_indexer] = value instead\n",
            "\n",
            "See the caveats in the documentation: https://pandas.pydata.org/pandas-docs/stable/user_guide/indexing.html#returning-a-view-versus-a-copy\n",
            "  \n"
          ],
          "name": "stderr"
        },
        {
          "output_type": "execute_result",
          "data": {
            "text/html": [
              "<div>\n",
              "<style scoped>\n",
              "    .dataframe tbody tr th:only-of-type {\n",
              "        vertical-align: middle;\n",
              "    }\n",
              "\n",
              "    .dataframe tbody tr th {\n",
              "        vertical-align: top;\n",
              "    }\n",
              "\n",
              "    .dataframe thead th {\n",
              "        text-align: right;\n",
              "    }\n",
              "</style>\n",
              "<table border=\"1\" class=\"dataframe\">\n",
              "  <thead>\n",
              "    <tr style=\"text-align: right;\">\n",
              "      <th></th>\n",
              "      <th>年月</th>\n",
              "      <th>customer_id</th>\n",
              "      <th>count_0</th>\n",
              "      <th>count_1</th>\n",
              "      <th>name</th>\n",
              "      <th>class</th>\n",
              "      <th>gender</th>\n",
              "      <th>start_date</th>\n",
              "      <th>end_date</th>\n",
              "      <th>campaign_id</th>\n",
              "      <th>is_deleted</th>\n",
              "      <th>class_name</th>\n",
              "      <th>price</th>\n",
              "      <th>campaign_name</th>\n",
              "      <th>mean</th>\n",
              "      <th>median</th>\n",
              "      <th>max</th>\n",
              "      <th>min</th>\n",
              "      <th>routine_flg</th>\n",
              "      <th>calc_date</th>\n",
              "      <th>membership_period</th>\n",
              "      <th>exit_date</th>\n",
              "    </tr>\n",
              "  </thead>\n",
              "  <tbody>\n",
              "    <tr>\n",
              "      <th>0</th>\n",
              "      <td>201805</td>\n",
              "      <td>AS002855</td>\n",
              "      <td>5</td>\n",
              "      <td>4.0</td>\n",
              "      <td>NaN</td>\n",
              "      <td>NaN</td>\n",
              "      <td>NaN</td>\n",
              "      <td>NaN</td>\n",
              "      <td>NaT</td>\n",
              "      <td>NaN</td>\n",
              "      <td>NaN</td>\n",
              "      <td>NaN</td>\n",
              "      <td>NaN</td>\n",
              "      <td>NaN</td>\n",
              "      <td>NaN</td>\n",
              "      <td>NaN</td>\n",
              "      <td>NaN</td>\n",
              "      <td>NaN</td>\n",
              "      <td>NaN</td>\n",
              "      <td>NaN</td>\n",
              "      <td>NaN</td>\n",
              "      <td>NaN</td>\n",
              "    </tr>\n",
              "    <tr>\n",
              "      <th>1</th>\n",
              "      <td>201805</td>\n",
              "      <td>AS009373</td>\n",
              "      <td>4</td>\n",
              "      <td>3.0</td>\n",
              "      <td>NaN</td>\n",
              "      <td>NaN</td>\n",
              "      <td>NaN</td>\n",
              "      <td>NaN</td>\n",
              "      <td>NaT</td>\n",
              "      <td>NaN</td>\n",
              "      <td>NaN</td>\n",
              "      <td>NaN</td>\n",
              "      <td>NaN</td>\n",
              "      <td>NaN</td>\n",
              "      <td>NaN</td>\n",
              "      <td>NaN</td>\n",
              "      <td>NaN</td>\n",
              "      <td>NaN</td>\n",
              "      <td>NaN</td>\n",
              "      <td>NaN</td>\n",
              "      <td>NaN</td>\n",
              "      <td>NaN</td>\n",
              "    </tr>\n",
              "    <tr>\n",
              "      <th>2</th>\n",
              "      <td>201805</td>\n",
              "      <td>AS015233</td>\n",
              "      <td>7</td>\n",
              "      <td>NaN</td>\n",
              "      <td>NaN</td>\n",
              "      <td>NaN</td>\n",
              "      <td>NaN</td>\n",
              "      <td>NaN</td>\n",
              "      <td>NaT</td>\n",
              "      <td>NaN</td>\n",
              "      <td>NaN</td>\n",
              "      <td>NaN</td>\n",
              "      <td>NaN</td>\n",
              "      <td>NaN</td>\n",
              "      <td>NaN</td>\n",
              "      <td>NaN</td>\n",
              "      <td>NaN</td>\n",
              "      <td>NaN</td>\n",
              "      <td>NaN</td>\n",
              "      <td>NaN</td>\n",
              "      <td>NaN</td>\n",
              "      <td>NaN</td>\n",
              "    </tr>\n",
              "    <tr>\n",
              "      <th>3</th>\n",
              "      <td>201805</td>\n",
              "      <td>AS015315</td>\n",
              "      <td>3</td>\n",
              "      <td>6.0</td>\n",
              "      <td>NaN</td>\n",
              "      <td>NaN</td>\n",
              "      <td>NaN</td>\n",
              "      <td>NaN</td>\n",
              "      <td>NaT</td>\n",
              "      <td>NaN</td>\n",
              "      <td>NaN</td>\n",
              "      <td>NaN</td>\n",
              "      <td>NaN</td>\n",
              "      <td>NaN</td>\n",
              "      <td>NaN</td>\n",
              "      <td>NaN</td>\n",
              "      <td>NaN</td>\n",
              "      <td>NaN</td>\n",
              "      <td>NaN</td>\n",
              "      <td>NaN</td>\n",
              "      <td>NaN</td>\n",
              "      <td>NaN</td>\n",
              "    </tr>\n",
              "    <tr>\n",
              "      <th>4</th>\n",
              "      <td>201805</td>\n",
              "      <td>AS015739</td>\n",
              "      <td>5</td>\n",
              "      <td>7.0</td>\n",
              "      <td>NaN</td>\n",
              "      <td>NaN</td>\n",
              "      <td>NaN</td>\n",
              "      <td>NaN</td>\n",
              "      <td>NaT</td>\n",
              "      <td>NaN</td>\n",
              "      <td>NaN</td>\n",
              "      <td>NaN</td>\n",
              "      <td>NaN</td>\n",
              "      <td>NaN</td>\n",
              "      <td>NaN</td>\n",
              "      <td>NaN</td>\n",
              "      <td>NaN</td>\n",
              "      <td>NaN</td>\n",
              "      <td>NaN</td>\n",
              "      <td>NaN</td>\n",
              "      <td>NaN</td>\n",
              "      <td>NaN</td>\n",
              "    </tr>\n",
              "  </tbody>\n",
              "</table>\n",
              "</div>"
            ],
            "text/plain": [
              "       年月 customer_id  count_0  ...  calc_date membership_period exit_date\n",
              "0  201805    AS002855        5  ...        NaN               NaN       NaN\n",
              "1  201805    AS009373        4  ...        NaN               NaN       NaN\n",
              "2  201805    AS015233        7  ...        NaN               NaN       NaN\n",
              "3  201805    AS015315        3  ...        NaN               NaN       NaN\n",
              "4  201805    AS015739        5  ...        NaN               NaN       NaN\n",
              "\n",
              "[5 rows x 22 columns]"
            ]
          },
          "metadata": {
            "tags": []
          },
          "execution_count": 5
        }
      ]
    },
    {
      "cell_type": "code",
      "metadata": {
        "id": "-kKZJbtbF_66",
        "colab": {
          "base_uri": "https://localhost:8080/",
          "height": 428
        },
        "outputId": "948d1702-ce47-4b91-c226-24bb77d25e81"
      },
      "source": [
        "exit_uselog=exit_uselog.dropna(subset=[\"name\"])\n",
        "print(len(exit_uselog))\n",
        "print(len(exit_uselog[\"customer_id\"].unique()))\n",
        "exit_uselog.head()"
      ],
      "execution_count": 6,
      "outputs": [
        {
          "output_type": "stream",
          "text": [
            "1104\n",
            "1104\n"
          ],
          "name": "stdout"
        },
        {
          "output_type": "execute_result",
          "data": {
            "text/html": [
              "<div>\n",
              "<style scoped>\n",
              "    .dataframe tbody tr th:only-of-type {\n",
              "        vertical-align: middle;\n",
              "    }\n",
              "\n",
              "    .dataframe tbody tr th {\n",
              "        vertical-align: top;\n",
              "    }\n",
              "\n",
              "    .dataframe thead th {\n",
              "        text-align: right;\n",
              "    }\n",
              "</style>\n",
              "<table border=\"1\" class=\"dataframe\">\n",
              "  <thead>\n",
              "    <tr style=\"text-align: right;\">\n",
              "      <th></th>\n",
              "      <th>年月</th>\n",
              "      <th>customer_id</th>\n",
              "      <th>count_0</th>\n",
              "      <th>count_1</th>\n",
              "      <th>name</th>\n",
              "      <th>class</th>\n",
              "      <th>gender</th>\n",
              "      <th>start_date</th>\n",
              "      <th>end_date</th>\n",
              "      <th>campaign_id</th>\n",
              "      <th>is_deleted</th>\n",
              "      <th>class_name</th>\n",
              "      <th>price</th>\n",
              "      <th>campaign_name</th>\n",
              "      <th>mean</th>\n",
              "      <th>median</th>\n",
              "      <th>max</th>\n",
              "      <th>min</th>\n",
              "      <th>routine_flg</th>\n",
              "      <th>calc_date</th>\n",
              "      <th>membership_period</th>\n",
              "      <th>exit_date</th>\n",
              "    </tr>\n",
              "  </thead>\n",
              "  <tbody>\n",
              "    <tr>\n",
              "      <th>19</th>\n",
              "      <td>201805</td>\n",
              "      <td>AS055680</td>\n",
              "      <td>3</td>\n",
              "      <td>3.0</td>\n",
              "      <td>XXXXX</td>\n",
              "      <td>C01</td>\n",
              "      <td>M</td>\n",
              "      <td>2018-03-01</td>\n",
              "      <td>2018-06-30</td>\n",
              "      <td>CA1</td>\n",
              "      <td>1.0</td>\n",
              "      <td>オールタイム</td>\n",
              "      <td>10500.0</td>\n",
              "      <td>通常</td>\n",
              "      <td>3.000000</td>\n",
              "      <td>3.0</td>\n",
              "      <td>3.0</td>\n",
              "      <td>3.0</td>\n",
              "      <td>0.0</td>\n",
              "      <td>2018-06-30</td>\n",
              "      <td>3.0</td>\n",
              "      <td>2018-05-30 00:00:00</td>\n",
              "    </tr>\n",
              "    <tr>\n",
              "      <th>57</th>\n",
              "      <td>201805</td>\n",
              "      <td>AS169823</td>\n",
              "      <td>2</td>\n",
              "      <td>3.0</td>\n",
              "      <td>XX</td>\n",
              "      <td>C01</td>\n",
              "      <td>M</td>\n",
              "      <td>2017-11-01</td>\n",
              "      <td>2018-06-30</td>\n",
              "      <td>CA1</td>\n",
              "      <td>1.0</td>\n",
              "      <td>オールタイム</td>\n",
              "      <td>10500.0</td>\n",
              "      <td>通常</td>\n",
              "      <td>3.000000</td>\n",
              "      <td>3.0</td>\n",
              "      <td>4.0</td>\n",
              "      <td>2.0</td>\n",
              "      <td>1.0</td>\n",
              "      <td>2018-06-30</td>\n",
              "      <td>7.0</td>\n",
              "      <td>2018-05-30 00:00:00</td>\n",
              "    </tr>\n",
              "    <tr>\n",
              "      <th>110</th>\n",
              "      <td>201805</td>\n",
              "      <td>AS305860</td>\n",
              "      <td>5</td>\n",
              "      <td>3.0</td>\n",
              "      <td>XXXX</td>\n",
              "      <td>C01</td>\n",
              "      <td>M</td>\n",
              "      <td>2017-06-01</td>\n",
              "      <td>2018-06-30</td>\n",
              "      <td>CA1</td>\n",
              "      <td>1.0</td>\n",
              "      <td>オールタイム</td>\n",
              "      <td>10500.0</td>\n",
              "      <td>通常</td>\n",
              "      <td>3.333333</td>\n",
              "      <td>3.0</td>\n",
              "      <td>5.0</td>\n",
              "      <td>2.0</td>\n",
              "      <td>0.0</td>\n",
              "      <td>2018-06-30</td>\n",
              "      <td>12.0</td>\n",
              "      <td>2018-05-30 00:00:00</td>\n",
              "    </tr>\n",
              "    <tr>\n",
              "      <th>128</th>\n",
              "      <td>201805</td>\n",
              "      <td>AS363699</td>\n",
              "      <td>5</td>\n",
              "      <td>3.0</td>\n",
              "      <td>XXXXX</td>\n",
              "      <td>C01</td>\n",
              "      <td>M</td>\n",
              "      <td>2018-02-01</td>\n",
              "      <td>2018-06-30</td>\n",
              "      <td>CA1</td>\n",
              "      <td>1.0</td>\n",
              "      <td>オールタイム</td>\n",
              "      <td>10500.0</td>\n",
              "      <td>通常</td>\n",
              "      <td>3.333333</td>\n",
              "      <td>3.0</td>\n",
              "      <td>5.0</td>\n",
              "      <td>2.0</td>\n",
              "      <td>0.0</td>\n",
              "      <td>2018-06-30</td>\n",
              "      <td>4.0</td>\n",
              "      <td>2018-05-30 00:00:00</td>\n",
              "    </tr>\n",
              "    <tr>\n",
              "      <th>147</th>\n",
              "      <td>201805</td>\n",
              "      <td>AS417696</td>\n",
              "      <td>1</td>\n",
              "      <td>4.0</td>\n",
              "      <td>XX</td>\n",
              "      <td>C03</td>\n",
              "      <td>F</td>\n",
              "      <td>2017-09-01</td>\n",
              "      <td>2018-06-30</td>\n",
              "      <td>CA1</td>\n",
              "      <td>1.0</td>\n",
              "      <td>ナイト</td>\n",
              "      <td>6000.0</td>\n",
              "      <td>通常</td>\n",
              "      <td>2.000000</td>\n",
              "      <td>1.0</td>\n",
              "      <td>4.0</td>\n",
              "      <td>1.0</td>\n",
              "      <td>0.0</td>\n",
              "      <td>2018-06-30</td>\n",
              "      <td>9.0</td>\n",
              "      <td>2018-05-30 00:00:00</td>\n",
              "    </tr>\n",
              "  </tbody>\n",
              "</table>\n",
              "</div>"
            ],
            "text/plain": [
              "         年月 customer_id  ...  membership_period            exit_date\n",
              "19   201805    AS055680  ...                3.0  2018-05-30 00:00:00\n",
              "57   201805    AS169823  ...                7.0  2018-05-30 00:00:00\n",
              "110  201805    AS305860  ...               12.0  2018-05-30 00:00:00\n",
              "128  201805    AS363699  ...                4.0  2018-05-30 00:00:00\n",
              "147  201805    AS417696  ...                9.0  2018-05-30 00:00:00\n",
              "\n",
              "[5 rows x 22 columns]"
            ]
          },
          "metadata": {
            "tags": []
          },
          "execution_count": 6
        }
      ]
    },
    {
      "cell_type": "markdown",
      "metadata": {
        "id": "UreKYvZfEemG"
      },
      "source": [
        "# ノック43：継続顧客のデータを作成しよう"
      ]
    },
    {
      "cell_type": "code",
      "metadata": {
        "id": "XaXmkpuoqWKc",
        "colab": {
          "base_uri": "https://localhost:8080/"
        },
        "outputId": "fad39714-d1ed-4559-89a3-af5ef3612203"
      },
      "source": [
        "conti_customer=customer.loc[customer[\"is_deleted\"]==0]\n",
        "conti_uselog=pd.merge(uselog,conti_customer,on=\"customer_id\",how=\"left\")\n",
        "print(len(conti_uselog))\n",
        "conti_uselog=conti_uselog.dropna(subset=[\"name\"])\n",
        "print(len(conti_uselog))"
      ],
      "execution_count": 7,
      "outputs": [
        {
          "output_type": "stream",
          "text": [
            "33851\n",
            "27422\n"
          ],
          "name": "stdout"
        }
      ]
    },
    {
      "cell_type": "code",
      "metadata": {
        "id": "g0iyXFGGrj2E"
      },
      "source": [
        ""
      ],
      "execution_count": 7,
      "outputs": []
    },
    {
      "cell_type": "markdown",
      "metadata": {
        "id": "GwYWsoHW8iGg"
      },
      "source": [
        "## データのアンダーサンプリングする"
      ]
    },
    {
      "cell_type": "code",
      "metadata": {
        "id": "6TcRcEnL8n2E",
        "outputId": "64633c05-cdda-433c-bf99-11d0eaef77fc",
        "colab": {
          "base_uri": "https://localhost:8080/",
          "height": 326
        }
      },
      "source": [
        "conti_uselog=conti_uselog.sample(frac=1).reset_index(drop=True)\n",
        "conti_uselog=conti_uselog.drop_duplicates(subset=\"customer_id\")\n",
        "print(len(conti_uselog))\n",
        "conti_uselog.head()"
      ],
      "execution_count": 8,
      "outputs": [
        {
          "output_type": "stream",
          "text": [
            "2842\n"
          ],
          "name": "stdout"
        },
        {
          "output_type": "execute_result",
          "data": {
            "text/html": [
              "<div>\n",
              "<style scoped>\n",
              "    .dataframe tbody tr th:only-of-type {\n",
              "        vertical-align: middle;\n",
              "    }\n",
              "\n",
              "    .dataframe tbody tr th {\n",
              "        vertical-align: top;\n",
              "    }\n",
              "\n",
              "    .dataframe thead th {\n",
              "        text-align: right;\n",
              "    }\n",
              "</style>\n",
              "<table border=\"1\" class=\"dataframe\">\n",
              "  <thead>\n",
              "    <tr style=\"text-align: right;\">\n",
              "      <th></th>\n",
              "      <th>年月</th>\n",
              "      <th>customer_id</th>\n",
              "      <th>count_0</th>\n",
              "      <th>count_1</th>\n",
              "      <th>name</th>\n",
              "      <th>class</th>\n",
              "      <th>gender</th>\n",
              "      <th>start_date</th>\n",
              "      <th>end_date</th>\n",
              "      <th>campaign_id</th>\n",
              "      <th>is_deleted</th>\n",
              "      <th>class_name</th>\n",
              "      <th>price</th>\n",
              "      <th>campaign_name</th>\n",
              "      <th>mean</th>\n",
              "      <th>median</th>\n",
              "      <th>max</th>\n",
              "      <th>min</th>\n",
              "      <th>routine_flg</th>\n",
              "      <th>calc_date</th>\n",
              "      <th>membership_period</th>\n",
              "    </tr>\n",
              "  </thead>\n",
              "  <tbody>\n",
              "    <tr>\n",
              "      <th>0</th>\n",
              "      <td>201901</td>\n",
              "      <td>OA116646</td>\n",
              "      <td>9</td>\n",
              "      <td>10.0</td>\n",
              "      <td>XXXXXX</td>\n",
              "      <td>C01</td>\n",
              "      <td>F</td>\n",
              "      <td>2018-12-15</td>\n",
              "      <td>NaN</td>\n",
              "      <td>CA3</td>\n",
              "      <td>0.0</td>\n",
              "      <td>オールタイム</td>\n",
              "      <td>10500.0</td>\n",
              "      <td>入会費無料</td>\n",
              "      <td>8.250000</td>\n",
              "      <td>8.5</td>\n",
              "      <td>10.0</td>\n",
              "      <td>6.0</td>\n",
              "      <td>1.0</td>\n",
              "      <td>2019-04-30</td>\n",
              "      <td>4.0</td>\n",
              "    </tr>\n",
              "    <tr>\n",
              "      <th>1</th>\n",
              "      <td>201812</td>\n",
              "      <td>PL191813</td>\n",
              "      <td>5</td>\n",
              "      <td>6.0</td>\n",
              "      <td>XXXXX</td>\n",
              "      <td>C03</td>\n",
              "      <td>M</td>\n",
              "      <td>2017-08-01</td>\n",
              "      <td>NaN</td>\n",
              "      <td>CA2</td>\n",
              "      <td>0.0</td>\n",
              "      <td>ナイト</td>\n",
              "      <td>6000.0</td>\n",
              "      <td>入会費半額</td>\n",
              "      <td>5.500000</td>\n",
              "      <td>5.5</td>\n",
              "      <td>9.0</td>\n",
              "      <td>2.0</td>\n",
              "      <td>1.0</td>\n",
              "      <td>2019-04-30</td>\n",
              "      <td>20.0</td>\n",
              "    </tr>\n",
              "    <tr>\n",
              "      <th>2</th>\n",
              "      <td>201903</td>\n",
              "      <td>GD559311</td>\n",
              "      <td>10</td>\n",
              "      <td>5.0</td>\n",
              "      <td>XXXXX</td>\n",
              "      <td>C02</td>\n",
              "      <td>F</td>\n",
              "      <td>2018-12-01</td>\n",
              "      <td>NaN</td>\n",
              "      <td>CA3</td>\n",
              "      <td>0.0</td>\n",
              "      <td>デイタイム</td>\n",
              "      <td>7500.0</td>\n",
              "      <td>入会費無料</td>\n",
              "      <td>8.000000</td>\n",
              "      <td>8.5</td>\n",
              "      <td>10.0</td>\n",
              "      <td>5.0</td>\n",
              "      <td>1.0</td>\n",
              "      <td>2019-04-30</td>\n",
              "      <td>4.0</td>\n",
              "    </tr>\n",
              "    <tr>\n",
              "      <th>3</th>\n",
              "      <td>201811</td>\n",
              "      <td>PL888478</td>\n",
              "      <td>3</td>\n",
              "      <td>2.0</td>\n",
              "      <td>XXXXX</td>\n",
              "      <td>C03</td>\n",
              "      <td>M</td>\n",
              "      <td>2016-05-01</td>\n",
              "      <td>NaN</td>\n",
              "      <td>CA1</td>\n",
              "      <td>0.0</td>\n",
              "      <td>ナイト</td>\n",
              "      <td>6000.0</td>\n",
              "      <td>通常</td>\n",
              "      <td>3.916667</td>\n",
              "      <td>4.0</td>\n",
              "      <td>6.0</td>\n",
              "      <td>2.0</td>\n",
              "      <td>1.0</td>\n",
              "      <td>2019-04-30</td>\n",
              "      <td>35.0</td>\n",
              "    </tr>\n",
              "    <tr>\n",
              "      <th>4</th>\n",
              "      <td>201806</td>\n",
              "      <td>IK871588</td>\n",
              "      <td>7</td>\n",
              "      <td>6.0</td>\n",
              "      <td>XXXX</td>\n",
              "      <td>C02</td>\n",
              "      <td>F</td>\n",
              "      <td>2016-03-01</td>\n",
              "      <td>NaN</td>\n",
              "      <td>CA1</td>\n",
              "      <td>0.0</td>\n",
              "      <td>デイタイム</td>\n",
              "      <td>7500.0</td>\n",
              "      <td>通常</td>\n",
              "      <td>4.916667</td>\n",
              "      <td>4.5</td>\n",
              "      <td>8.0</td>\n",
              "      <td>3.0</td>\n",
              "      <td>1.0</td>\n",
              "      <td>2019-04-30</td>\n",
              "      <td>37.0</td>\n",
              "    </tr>\n",
              "  </tbody>\n",
              "</table>\n",
              "</div>"
            ],
            "text/plain": [
              "       年月 customer_id  count_0  ...  routine_flg   calc_date membership_period\n",
              "0  201901    OA116646        9  ...          1.0  2019-04-30               4.0\n",
              "1  201812    PL191813        5  ...          1.0  2019-04-30              20.0\n",
              "2  201903    GD559311       10  ...          1.0  2019-04-30               4.0\n",
              "3  201811    PL888478        3  ...          1.0  2019-04-30              35.0\n",
              "4  201806    IK871588        7  ...          1.0  2019-04-30              37.0\n",
              "\n",
              "[5 rows x 21 columns]"
            ]
          },
          "metadata": {
            "tags": []
          },
          "execution_count": 8
        }
      ]
    },
    {
      "cell_type": "code",
      "metadata": {
        "id": "RhAg1zsRA2mS",
        "outputId": "cf449d10-2789-4bc8-dde0-b663274f7de3",
        "colab": {
          "base_uri": "https://localhost:8080/",
          "height": 326
        }
      },
      "source": [
        "predict_data=pd.concat([conti_uselog,exit_uselog],ignore_index=True)\n",
        "print(len(predict_data))\n",
        "predict_data.head()"
      ],
      "execution_count": 9,
      "outputs": [
        {
          "output_type": "stream",
          "text": [
            "3946\n"
          ],
          "name": "stdout"
        },
        {
          "output_type": "execute_result",
          "data": {
            "text/html": [
              "<div>\n",
              "<style scoped>\n",
              "    .dataframe tbody tr th:only-of-type {\n",
              "        vertical-align: middle;\n",
              "    }\n",
              "\n",
              "    .dataframe tbody tr th {\n",
              "        vertical-align: top;\n",
              "    }\n",
              "\n",
              "    .dataframe thead th {\n",
              "        text-align: right;\n",
              "    }\n",
              "</style>\n",
              "<table border=\"1\" class=\"dataframe\">\n",
              "  <thead>\n",
              "    <tr style=\"text-align: right;\">\n",
              "      <th></th>\n",
              "      <th>年月</th>\n",
              "      <th>customer_id</th>\n",
              "      <th>count_0</th>\n",
              "      <th>count_1</th>\n",
              "      <th>name</th>\n",
              "      <th>class</th>\n",
              "      <th>gender</th>\n",
              "      <th>start_date</th>\n",
              "      <th>end_date</th>\n",
              "      <th>campaign_id</th>\n",
              "      <th>is_deleted</th>\n",
              "      <th>class_name</th>\n",
              "      <th>price</th>\n",
              "      <th>campaign_name</th>\n",
              "      <th>mean</th>\n",
              "      <th>median</th>\n",
              "      <th>max</th>\n",
              "      <th>min</th>\n",
              "      <th>routine_flg</th>\n",
              "      <th>calc_date</th>\n",
              "      <th>membership_period</th>\n",
              "      <th>exit_date</th>\n",
              "    </tr>\n",
              "  </thead>\n",
              "  <tbody>\n",
              "    <tr>\n",
              "      <th>0</th>\n",
              "      <td>201901</td>\n",
              "      <td>OA116646</td>\n",
              "      <td>9</td>\n",
              "      <td>10.0</td>\n",
              "      <td>XXXXXX</td>\n",
              "      <td>C01</td>\n",
              "      <td>F</td>\n",
              "      <td>2018-12-15</td>\n",
              "      <td>NaN</td>\n",
              "      <td>CA3</td>\n",
              "      <td>0.0</td>\n",
              "      <td>オールタイム</td>\n",
              "      <td>10500.0</td>\n",
              "      <td>入会費無料</td>\n",
              "      <td>8.250000</td>\n",
              "      <td>8.5</td>\n",
              "      <td>10.0</td>\n",
              "      <td>6.0</td>\n",
              "      <td>1.0</td>\n",
              "      <td>2019-04-30</td>\n",
              "      <td>4.0</td>\n",
              "      <td>NaN</td>\n",
              "    </tr>\n",
              "    <tr>\n",
              "      <th>1</th>\n",
              "      <td>201812</td>\n",
              "      <td>PL191813</td>\n",
              "      <td>5</td>\n",
              "      <td>6.0</td>\n",
              "      <td>XXXXX</td>\n",
              "      <td>C03</td>\n",
              "      <td>M</td>\n",
              "      <td>2017-08-01</td>\n",
              "      <td>NaN</td>\n",
              "      <td>CA2</td>\n",
              "      <td>0.0</td>\n",
              "      <td>ナイト</td>\n",
              "      <td>6000.0</td>\n",
              "      <td>入会費半額</td>\n",
              "      <td>5.500000</td>\n",
              "      <td>5.5</td>\n",
              "      <td>9.0</td>\n",
              "      <td>2.0</td>\n",
              "      <td>1.0</td>\n",
              "      <td>2019-04-30</td>\n",
              "      <td>20.0</td>\n",
              "      <td>NaN</td>\n",
              "    </tr>\n",
              "    <tr>\n",
              "      <th>2</th>\n",
              "      <td>201903</td>\n",
              "      <td>GD559311</td>\n",
              "      <td>10</td>\n",
              "      <td>5.0</td>\n",
              "      <td>XXXXX</td>\n",
              "      <td>C02</td>\n",
              "      <td>F</td>\n",
              "      <td>2018-12-01</td>\n",
              "      <td>NaN</td>\n",
              "      <td>CA3</td>\n",
              "      <td>0.0</td>\n",
              "      <td>デイタイム</td>\n",
              "      <td>7500.0</td>\n",
              "      <td>入会費無料</td>\n",
              "      <td>8.000000</td>\n",
              "      <td>8.5</td>\n",
              "      <td>10.0</td>\n",
              "      <td>5.0</td>\n",
              "      <td>1.0</td>\n",
              "      <td>2019-04-30</td>\n",
              "      <td>4.0</td>\n",
              "      <td>NaN</td>\n",
              "    </tr>\n",
              "    <tr>\n",
              "      <th>3</th>\n",
              "      <td>201811</td>\n",
              "      <td>PL888478</td>\n",
              "      <td>3</td>\n",
              "      <td>2.0</td>\n",
              "      <td>XXXXX</td>\n",
              "      <td>C03</td>\n",
              "      <td>M</td>\n",
              "      <td>2016-05-01</td>\n",
              "      <td>NaN</td>\n",
              "      <td>CA1</td>\n",
              "      <td>0.0</td>\n",
              "      <td>ナイト</td>\n",
              "      <td>6000.0</td>\n",
              "      <td>通常</td>\n",
              "      <td>3.916667</td>\n",
              "      <td>4.0</td>\n",
              "      <td>6.0</td>\n",
              "      <td>2.0</td>\n",
              "      <td>1.0</td>\n",
              "      <td>2019-04-30</td>\n",
              "      <td>35.0</td>\n",
              "      <td>NaN</td>\n",
              "    </tr>\n",
              "    <tr>\n",
              "      <th>4</th>\n",
              "      <td>201806</td>\n",
              "      <td>IK871588</td>\n",
              "      <td>7</td>\n",
              "      <td>6.0</td>\n",
              "      <td>XXXX</td>\n",
              "      <td>C02</td>\n",
              "      <td>F</td>\n",
              "      <td>2016-03-01</td>\n",
              "      <td>NaN</td>\n",
              "      <td>CA1</td>\n",
              "      <td>0.0</td>\n",
              "      <td>デイタイム</td>\n",
              "      <td>7500.0</td>\n",
              "      <td>通常</td>\n",
              "      <td>4.916667</td>\n",
              "      <td>4.5</td>\n",
              "      <td>8.0</td>\n",
              "      <td>3.0</td>\n",
              "      <td>1.0</td>\n",
              "      <td>2019-04-30</td>\n",
              "      <td>37.0</td>\n",
              "      <td>NaN</td>\n",
              "    </tr>\n",
              "  </tbody>\n",
              "</table>\n",
              "</div>"
            ],
            "text/plain": [
              "       年月 customer_id  count_0  ...   calc_date membership_period exit_date\n",
              "0  201901    OA116646        9  ...  2019-04-30               4.0       NaN\n",
              "1  201812    PL191813        5  ...  2019-04-30              20.0       NaN\n",
              "2  201903    GD559311       10  ...  2019-04-30               4.0       NaN\n",
              "3  201811    PL888478        3  ...  2019-04-30              35.0       NaN\n",
              "4  201806    IK871588        7  ...  2019-04-30              37.0       NaN\n",
              "\n",
              "[5 rows x 22 columns]"
            ]
          },
          "metadata": {
            "tags": []
          },
          "execution_count": 9
        }
      ]
    },
    {
      "cell_type": "markdown",
      "metadata": {
        "id": "hNfva74L_v2d"
      },
      "source": [
        "# ノック44：予測する月の在籍期間を作成しよう"
      ]
    },
    {
      "cell_type": "code",
      "metadata": {
        "id": "iCO7ABbl86-B",
        "outputId": "2e93ec81-f72e-4b2d-846d-a1bb69d315fa",
        "colab": {
          "base_uri": "https://localhost:8080/",
          "height": 394
        }
      },
      "source": [
        "predict_data[\"period\"]=0\n",
        "predict_data[\"now_date\"]=pd.to_datetime(predict_data[\"年月\"],format=\"%Y%m\")\n",
        "predict_data[\"start_date\"]=pd.to_datetime(predict_data[\"start_date\"])\n",
        "\n",
        "for i in range(len(predict_data)):\n",
        "    delta=relativedelta(predict_data[\"now_date\"][i],predict_data[\"start_date\"][i])\n",
        "    predict_data[\"period\"][i]=int(delta.years*12+delta.months)\n",
        "predict_data.head()"
      ],
      "execution_count": 10,
      "outputs": [
        {
          "output_type": "stream",
          "text": [
            "/usr/local/lib/python3.6/dist-packages/ipykernel_launcher.py:7: SettingWithCopyWarning: \n",
            "A value is trying to be set on a copy of a slice from a DataFrame\n",
            "\n",
            "See the caveats in the documentation: https://pandas.pydata.org/pandas-docs/stable/user_guide/indexing.html#returning-a-view-versus-a-copy\n",
            "  import sys\n"
          ],
          "name": "stderr"
        },
        {
          "output_type": "execute_result",
          "data": {
            "text/html": [
              "<div>\n",
              "<style scoped>\n",
              "    .dataframe tbody tr th:only-of-type {\n",
              "        vertical-align: middle;\n",
              "    }\n",
              "\n",
              "    .dataframe tbody tr th {\n",
              "        vertical-align: top;\n",
              "    }\n",
              "\n",
              "    .dataframe thead th {\n",
              "        text-align: right;\n",
              "    }\n",
              "</style>\n",
              "<table border=\"1\" class=\"dataframe\">\n",
              "  <thead>\n",
              "    <tr style=\"text-align: right;\">\n",
              "      <th></th>\n",
              "      <th>年月</th>\n",
              "      <th>customer_id</th>\n",
              "      <th>count_0</th>\n",
              "      <th>count_1</th>\n",
              "      <th>name</th>\n",
              "      <th>class</th>\n",
              "      <th>gender</th>\n",
              "      <th>start_date</th>\n",
              "      <th>end_date</th>\n",
              "      <th>campaign_id</th>\n",
              "      <th>is_deleted</th>\n",
              "      <th>class_name</th>\n",
              "      <th>price</th>\n",
              "      <th>campaign_name</th>\n",
              "      <th>mean</th>\n",
              "      <th>median</th>\n",
              "      <th>max</th>\n",
              "      <th>min</th>\n",
              "      <th>routine_flg</th>\n",
              "      <th>calc_date</th>\n",
              "      <th>membership_period</th>\n",
              "      <th>exit_date</th>\n",
              "      <th>period</th>\n",
              "      <th>now_date</th>\n",
              "    </tr>\n",
              "  </thead>\n",
              "  <tbody>\n",
              "    <tr>\n",
              "      <th>0</th>\n",
              "      <td>201901</td>\n",
              "      <td>OA116646</td>\n",
              "      <td>9</td>\n",
              "      <td>10.0</td>\n",
              "      <td>XXXXXX</td>\n",
              "      <td>C01</td>\n",
              "      <td>F</td>\n",
              "      <td>2018-12-15</td>\n",
              "      <td>NaN</td>\n",
              "      <td>CA3</td>\n",
              "      <td>0.0</td>\n",
              "      <td>オールタイム</td>\n",
              "      <td>10500.0</td>\n",
              "      <td>入会費無料</td>\n",
              "      <td>8.250000</td>\n",
              "      <td>8.5</td>\n",
              "      <td>10.0</td>\n",
              "      <td>6.0</td>\n",
              "      <td>1.0</td>\n",
              "      <td>2019-04-30</td>\n",
              "      <td>4.0</td>\n",
              "      <td>NaN</td>\n",
              "      <td>0</td>\n",
              "      <td>2019-01-01</td>\n",
              "    </tr>\n",
              "    <tr>\n",
              "      <th>1</th>\n",
              "      <td>201812</td>\n",
              "      <td>PL191813</td>\n",
              "      <td>5</td>\n",
              "      <td>6.0</td>\n",
              "      <td>XXXXX</td>\n",
              "      <td>C03</td>\n",
              "      <td>M</td>\n",
              "      <td>2017-08-01</td>\n",
              "      <td>NaN</td>\n",
              "      <td>CA2</td>\n",
              "      <td>0.0</td>\n",
              "      <td>ナイト</td>\n",
              "      <td>6000.0</td>\n",
              "      <td>入会費半額</td>\n",
              "      <td>5.500000</td>\n",
              "      <td>5.5</td>\n",
              "      <td>9.0</td>\n",
              "      <td>2.0</td>\n",
              "      <td>1.0</td>\n",
              "      <td>2019-04-30</td>\n",
              "      <td>20.0</td>\n",
              "      <td>NaN</td>\n",
              "      <td>16</td>\n",
              "      <td>2018-12-01</td>\n",
              "    </tr>\n",
              "    <tr>\n",
              "      <th>2</th>\n",
              "      <td>201903</td>\n",
              "      <td>GD559311</td>\n",
              "      <td>10</td>\n",
              "      <td>5.0</td>\n",
              "      <td>XXXXX</td>\n",
              "      <td>C02</td>\n",
              "      <td>F</td>\n",
              "      <td>2018-12-01</td>\n",
              "      <td>NaN</td>\n",
              "      <td>CA3</td>\n",
              "      <td>0.0</td>\n",
              "      <td>デイタイム</td>\n",
              "      <td>7500.0</td>\n",
              "      <td>入会費無料</td>\n",
              "      <td>8.000000</td>\n",
              "      <td>8.5</td>\n",
              "      <td>10.0</td>\n",
              "      <td>5.0</td>\n",
              "      <td>1.0</td>\n",
              "      <td>2019-04-30</td>\n",
              "      <td>4.0</td>\n",
              "      <td>NaN</td>\n",
              "      <td>3</td>\n",
              "      <td>2019-03-01</td>\n",
              "    </tr>\n",
              "    <tr>\n",
              "      <th>3</th>\n",
              "      <td>201811</td>\n",
              "      <td>PL888478</td>\n",
              "      <td>3</td>\n",
              "      <td>2.0</td>\n",
              "      <td>XXXXX</td>\n",
              "      <td>C03</td>\n",
              "      <td>M</td>\n",
              "      <td>2016-05-01</td>\n",
              "      <td>NaN</td>\n",
              "      <td>CA1</td>\n",
              "      <td>0.0</td>\n",
              "      <td>ナイト</td>\n",
              "      <td>6000.0</td>\n",
              "      <td>通常</td>\n",
              "      <td>3.916667</td>\n",
              "      <td>4.0</td>\n",
              "      <td>6.0</td>\n",
              "      <td>2.0</td>\n",
              "      <td>1.0</td>\n",
              "      <td>2019-04-30</td>\n",
              "      <td>35.0</td>\n",
              "      <td>NaN</td>\n",
              "      <td>30</td>\n",
              "      <td>2018-11-01</td>\n",
              "    </tr>\n",
              "    <tr>\n",
              "      <th>4</th>\n",
              "      <td>201806</td>\n",
              "      <td>IK871588</td>\n",
              "      <td>7</td>\n",
              "      <td>6.0</td>\n",
              "      <td>XXXX</td>\n",
              "      <td>C02</td>\n",
              "      <td>F</td>\n",
              "      <td>2016-03-01</td>\n",
              "      <td>NaN</td>\n",
              "      <td>CA1</td>\n",
              "      <td>0.0</td>\n",
              "      <td>デイタイム</td>\n",
              "      <td>7500.0</td>\n",
              "      <td>通常</td>\n",
              "      <td>4.916667</td>\n",
              "      <td>4.5</td>\n",
              "      <td>8.0</td>\n",
              "      <td>3.0</td>\n",
              "      <td>1.0</td>\n",
              "      <td>2019-04-30</td>\n",
              "      <td>37.0</td>\n",
              "      <td>NaN</td>\n",
              "      <td>27</td>\n",
              "      <td>2018-06-01</td>\n",
              "    </tr>\n",
              "  </tbody>\n",
              "</table>\n",
              "</div>"
            ],
            "text/plain": [
              "       年月 customer_id  count_0  ...  exit_date period   now_date\n",
              "0  201901    OA116646        9  ...        NaN      0 2019-01-01\n",
              "1  201812    PL191813        5  ...        NaN     16 2018-12-01\n",
              "2  201903    GD559311       10  ...        NaN      3 2019-03-01\n",
              "3  201811    PL888478        3  ...        NaN     30 2018-11-01\n",
              "4  201806    IK871588        7  ...        NaN     27 2018-06-01\n",
              "\n",
              "[5 rows x 24 columns]"
            ]
          },
          "metadata": {
            "tags": []
          },
          "execution_count": 10
        }
      ]
    },
    {
      "cell_type": "markdown",
      "metadata": {
        "id": "AedSCZcqBstf"
      },
      "source": [
        "# ノック45：欠損値を除去しよう"
      ]
    },
    {
      "cell_type": "code",
      "metadata": {
        "id": "BLs9RereAvBL",
        "outputId": "267bc1b2-c40c-48eb-f116-c18ccbddc24b",
        "colab": {
          "base_uri": "https://localhost:8080/"
        }
      },
      "source": [
        "predict_data.isna().sum()"
      ],
      "execution_count": 11,
      "outputs": [
        {
          "output_type": "execute_result",
          "data": {
            "text/plain": [
              "年月                      0\n",
              "customer_id             0\n",
              "count_0                 0\n",
              "count_1               262\n",
              "name                    0\n",
              "class                   0\n",
              "gender                  0\n",
              "start_date              0\n",
              "end_date             2842\n",
              "campaign_id             0\n",
              "is_deleted              0\n",
              "class_name              0\n",
              "price                   0\n",
              "campaign_name           0\n",
              "mean                    0\n",
              "median                  0\n",
              "max                     0\n",
              "min                     0\n",
              "routine_flg             0\n",
              "calc_date               0\n",
              "membership_period       0\n",
              "exit_date            2842\n",
              "period                  0\n",
              "now_date                0\n",
              "dtype: int64"
            ]
          },
          "metadata": {
            "tags": []
          },
          "execution_count": 11
        }
      ]
    },
    {
      "cell_type": "code",
      "metadata": {
        "id": "SFhX6I7VB0Gf",
        "outputId": "e9775e15-03c9-4280-a6a7-7b986d805b39",
        "colab": {
          "base_uri": "https://localhost:8080/"
        }
      },
      "source": [
        "#count_1の欠損値を除去\n",
        "predict_data=predict_data.dropna(subset=[\"count_1\"])\n",
        "predict_data.isna().sum()"
      ],
      "execution_count": 12,
      "outputs": [
        {
          "output_type": "execute_result",
          "data": {
            "text/plain": [
              "年月                      0\n",
              "customer_id             0\n",
              "count_0                 0\n",
              "count_1                 0\n",
              "name                    0\n",
              "class                   0\n",
              "gender                  0\n",
              "start_date              0\n",
              "end_date             2632\n",
              "campaign_id             0\n",
              "is_deleted              0\n",
              "class_name              0\n",
              "price                   0\n",
              "campaign_name           0\n",
              "mean                    0\n",
              "median                  0\n",
              "max                     0\n",
              "min                     0\n",
              "routine_flg             0\n",
              "calc_date               0\n",
              "membership_period       0\n",
              "exit_date            2632\n",
              "period                  0\n",
              "now_date                0\n",
              "dtype: int64"
            ]
          },
          "metadata": {
            "tags": []
          },
          "execution_count": 12
        }
      ]
    },
    {
      "cell_type": "markdown",
      "metadata": {
        "id": "qMBwxmXdC31I"
      },
      "source": [
        "# ノック46：文字列型の変数を処理できるように整形しよう"
      ]
    },
    {
      "cell_type": "markdown",
      "metadata": {
        "id": "0cDSi1CjEnfL"
      },
      "source": [
        "## 1.データの絞り込み"
      ]
    },
    {
      "cell_type": "code",
      "metadata": {
        "id": "VWhf659gC85J",
        "outputId": "44ef9ffc-5787-456a-e0a5-4d49f08b7d26",
        "colab": {
          "base_uri": "https://localhost:8080/",
          "height": 204
        }
      },
      "source": [
        "target_col=[\"campaign_name\",\"class_name\",\"gender\",\"count_1\",\"routine_flg\",\"period\",\"is_deleted\"]\n",
        "predict_data=predict_data[target_col]\n",
        "predict_data.head()"
      ],
      "execution_count": 13,
      "outputs": [
        {
          "output_type": "execute_result",
          "data": {
            "text/html": [
              "<div>\n",
              "<style scoped>\n",
              "    .dataframe tbody tr th:only-of-type {\n",
              "        vertical-align: middle;\n",
              "    }\n",
              "\n",
              "    .dataframe tbody tr th {\n",
              "        vertical-align: top;\n",
              "    }\n",
              "\n",
              "    .dataframe thead th {\n",
              "        text-align: right;\n",
              "    }\n",
              "</style>\n",
              "<table border=\"1\" class=\"dataframe\">\n",
              "  <thead>\n",
              "    <tr style=\"text-align: right;\">\n",
              "      <th></th>\n",
              "      <th>campaign_name</th>\n",
              "      <th>class_name</th>\n",
              "      <th>gender</th>\n",
              "      <th>count_1</th>\n",
              "      <th>routine_flg</th>\n",
              "      <th>period</th>\n",
              "      <th>is_deleted</th>\n",
              "    </tr>\n",
              "  </thead>\n",
              "  <tbody>\n",
              "    <tr>\n",
              "      <th>0</th>\n",
              "      <td>入会費無料</td>\n",
              "      <td>オールタイム</td>\n",
              "      <td>F</td>\n",
              "      <td>10.0</td>\n",
              "      <td>1.0</td>\n",
              "      <td>0</td>\n",
              "      <td>0.0</td>\n",
              "    </tr>\n",
              "    <tr>\n",
              "      <th>1</th>\n",
              "      <td>入会費半額</td>\n",
              "      <td>ナイト</td>\n",
              "      <td>M</td>\n",
              "      <td>6.0</td>\n",
              "      <td>1.0</td>\n",
              "      <td>16</td>\n",
              "      <td>0.0</td>\n",
              "    </tr>\n",
              "    <tr>\n",
              "      <th>2</th>\n",
              "      <td>入会費無料</td>\n",
              "      <td>デイタイム</td>\n",
              "      <td>F</td>\n",
              "      <td>5.0</td>\n",
              "      <td>1.0</td>\n",
              "      <td>3</td>\n",
              "      <td>0.0</td>\n",
              "    </tr>\n",
              "    <tr>\n",
              "      <th>3</th>\n",
              "      <td>通常</td>\n",
              "      <td>ナイト</td>\n",
              "      <td>M</td>\n",
              "      <td>2.0</td>\n",
              "      <td>1.0</td>\n",
              "      <td>30</td>\n",
              "      <td>0.0</td>\n",
              "    </tr>\n",
              "    <tr>\n",
              "      <th>4</th>\n",
              "      <td>通常</td>\n",
              "      <td>デイタイム</td>\n",
              "      <td>F</td>\n",
              "      <td>6.0</td>\n",
              "      <td>1.0</td>\n",
              "      <td>27</td>\n",
              "      <td>0.0</td>\n",
              "    </tr>\n",
              "  </tbody>\n",
              "</table>\n",
              "</div>"
            ],
            "text/plain": [
              "  campaign_name class_name gender  count_1  routine_flg  period  is_deleted\n",
              "0         入会費無料     オールタイム      F     10.0          1.0       0         0.0\n",
              "1         入会費半額        ナイト      M      6.0          1.0      16         0.0\n",
              "2         入会費無料      デイタイム      F      5.0          1.0       3         0.0\n",
              "3            通常        ナイト      M      2.0          1.0      30         0.0\n",
              "4            通常      デイタイム      F      6.0          1.0      27         0.0"
            ]
          },
          "metadata": {
            "tags": []
          },
          "execution_count": 13
        }
      ]
    },
    {
      "cell_type": "markdown",
      "metadata": {
        "id": "GlTxI2gGEp29"
      },
      "source": [
        "## 2.ダミー変数化"
      ]
    },
    {
      "cell_type": "code",
      "metadata": {
        "id": "C8Dq7TjJEj3U",
        "outputId": "36a487fd-36ff-4c89-886d-5613b0c50238",
        "colab": {
          "base_uri": "https://localhost:8080/",
          "height": 221
        }
      },
      "source": [
        "predict_data=pd.get_dummies(predict_data)\n",
        "predict_data.head()"
      ],
      "execution_count": 14,
      "outputs": [
        {
          "output_type": "execute_result",
          "data": {
            "text/html": [
              "<div>\n",
              "<style scoped>\n",
              "    .dataframe tbody tr th:only-of-type {\n",
              "        vertical-align: middle;\n",
              "    }\n",
              "\n",
              "    .dataframe tbody tr th {\n",
              "        vertical-align: top;\n",
              "    }\n",
              "\n",
              "    .dataframe thead th {\n",
              "        text-align: right;\n",
              "    }\n",
              "</style>\n",
              "<table border=\"1\" class=\"dataframe\">\n",
              "  <thead>\n",
              "    <tr style=\"text-align: right;\">\n",
              "      <th></th>\n",
              "      <th>count_1</th>\n",
              "      <th>routine_flg</th>\n",
              "      <th>period</th>\n",
              "      <th>is_deleted</th>\n",
              "      <th>campaign_name_入会費半額</th>\n",
              "      <th>campaign_name_入会費無料</th>\n",
              "      <th>campaign_name_通常</th>\n",
              "      <th>class_name_オールタイム</th>\n",
              "      <th>class_name_デイタイム</th>\n",
              "      <th>class_name_ナイト</th>\n",
              "      <th>gender_F</th>\n",
              "      <th>gender_M</th>\n",
              "    </tr>\n",
              "  </thead>\n",
              "  <tbody>\n",
              "    <tr>\n",
              "      <th>0</th>\n",
              "      <td>10.0</td>\n",
              "      <td>1.0</td>\n",
              "      <td>0</td>\n",
              "      <td>0.0</td>\n",
              "      <td>0</td>\n",
              "      <td>1</td>\n",
              "      <td>0</td>\n",
              "      <td>1</td>\n",
              "      <td>0</td>\n",
              "      <td>0</td>\n",
              "      <td>1</td>\n",
              "      <td>0</td>\n",
              "    </tr>\n",
              "    <tr>\n",
              "      <th>1</th>\n",
              "      <td>6.0</td>\n",
              "      <td>1.0</td>\n",
              "      <td>16</td>\n",
              "      <td>0.0</td>\n",
              "      <td>1</td>\n",
              "      <td>0</td>\n",
              "      <td>0</td>\n",
              "      <td>0</td>\n",
              "      <td>0</td>\n",
              "      <td>1</td>\n",
              "      <td>0</td>\n",
              "      <td>1</td>\n",
              "    </tr>\n",
              "    <tr>\n",
              "      <th>2</th>\n",
              "      <td>5.0</td>\n",
              "      <td>1.0</td>\n",
              "      <td>3</td>\n",
              "      <td>0.0</td>\n",
              "      <td>0</td>\n",
              "      <td>1</td>\n",
              "      <td>0</td>\n",
              "      <td>0</td>\n",
              "      <td>1</td>\n",
              "      <td>0</td>\n",
              "      <td>1</td>\n",
              "      <td>0</td>\n",
              "    </tr>\n",
              "    <tr>\n",
              "      <th>3</th>\n",
              "      <td>2.0</td>\n",
              "      <td>1.0</td>\n",
              "      <td>30</td>\n",
              "      <td>0.0</td>\n",
              "      <td>0</td>\n",
              "      <td>0</td>\n",
              "      <td>1</td>\n",
              "      <td>0</td>\n",
              "      <td>0</td>\n",
              "      <td>1</td>\n",
              "      <td>0</td>\n",
              "      <td>1</td>\n",
              "    </tr>\n",
              "    <tr>\n",
              "      <th>4</th>\n",
              "      <td>6.0</td>\n",
              "      <td>1.0</td>\n",
              "      <td>27</td>\n",
              "      <td>0.0</td>\n",
              "      <td>0</td>\n",
              "      <td>0</td>\n",
              "      <td>1</td>\n",
              "      <td>0</td>\n",
              "      <td>1</td>\n",
              "      <td>0</td>\n",
              "      <td>1</td>\n",
              "      <td>0</td>\n",
              "    </tr>\n",
              "  </tbody>\n",
              "</table>\n",
              "</div>"
            ],
            "text/plain": [
              "   count_1  routine_flg  period  ...  class_name_ナイト  gender_F  gender_M\n",
              "0     10.0          1.0       0  ...               0         1         0\n",
              "1      6.0          1.0      16  ...               1         0         1\n",
              "2      5.0          1.0       3  ...               0         1         0\n",
              "3      2.0          1.0      30  ...               1         0         1\n",
              "4      6.0          1.0      27  ...               0         1         0\n",
              "\n",
              "[5 rows x 12 columns]"
            ]
          },
          "metadata": {
            "tags": []
          },
          "execution_count": 14
        }
      ]
    },
    {
      "cell_type": "markdown",
      "metadata": {
        "id": "HIqCN3D0E3ds"
      },
      "source": [
        "## 3.ダミー変数整理"
      ]
    },
    {
      "cell_type": "code",
      "metadata": {
        "id": "J1-Nj7TiE0EZ",
        "outputId": "162cc94a-92f9-4438-a904-9865e0a4eb51",
        "colab": {
          "base_uri": "https://localhost:8080/",
          "height": 204
        }
      },
      "source": [
        "del predict_data[\"campaign_name_通常\"]\n",
        "del predict_data[\"class_name_ナイト\"]\n",
        "del predict_data[\"gender_M\"]\n",
        "predict_data.head()"
      ],
      "execution_count": 15,
      "outputs": [
        {
          "output_type": "execute_result",
          "data": {
            "text/html": [
              "<div>\n",
              "<style scoped>\n",
              "    .dataframe tbody tr th:only-of-type {\n",
              "        vertical-align: middle;\n",
              "    }\n",
              "\n",
              "    .dataframe tbody tr th {\n",
              "        vertical-align: top;\n",
              "    }\n",
              "\n",
              "    .dataframe thead th {\n",
              "        text-align: right;\n",
              "    }\n",
              "</style>\n",
              "<table border=\"1\" class=\"dataframe\">\n",
              "  <thead>\n",
              "    <tr style=\"text-align: right;\">\n",
              "      <th></th>\n",
              "      <th>count_1</th>\n",
              "      <th>routine_flg</th>\n",
              "      <th>period</th>\n",
              "      <th>is_deleted</th>\n",
              "      <th>campaign_name_入会費半額</th>\n",
              "      <th>campaign_name_入会費無料</th>\n",
              "      <th>class_name_オールタイム</th>\n",
              "      <th>class_name_デイタイム</th>\n",
              "      <th>gender_F</th>\n",
              "    </tr>\n",
              "  </thead>\n",
              "  <tbody>\n",
              "    <tr>\n",
              "      <th>0</th>\n",
              "      <td>10.0</td>\n",
              "      <td>1.0</td>\n",
              "      <td>0</td>\n",
              "      <td>0.0</td>\n",
              "      <td>0</td>\n",
              "      <td>1</td>\n",
              "      <td>1</td>\n",
              "      <td>0</td>\n",
              "      <td>1</td>\n",
              "    </tr>\n",
              "    <tr>\n",
              "      <th>1</th>\n",
              "      <td>6.0</td>\n",
              "      <td>1.0</td>\n",
              "      <td>16</td>\n",
              "      <td>0.0</td>\n",
              "      <td>1</td>\n",
              "      <td>0</td>\n",
              "      <td>0</td>\n",
              "      <td>0</td>\n",
              "      <td>0</td>\n",
              "    </tr>\n",
              "    <tr>\n",
              "      <th>2</th>\n",
              "      <td>5.0</td>\n",
              "      <td>1.0</td>\n",
              "      <td>3</td>\n",
              "      <td>0.0</td>\n",
              "      <td>0</td>\n",
              "      <td>1</td>\n",
              "      <td>0</td>\n",
              "      <td>1</td>\n",
              "      <td>1</td>\n",
              "    </tr>\n",
              "    <tr>\n",
              "      <th>3</th>\n",
              "      <td>2.0</td>\n",
              "      <td>1.0</td>\n",
              "      <td>30</td>\n",
              "      <td>0.0</td>\n",
              "      <td>0</td>\n",
              "      <td>0</td>\n",
              "      <td>0</td>\n",
              "      <td>0</td>\n",
              "      <td>0</td>\n",
              "    </tr>\n",
              "    <tr>\n",
              "      <th>4</th>\n",
              "      <td>6.0</td>\n",
              "      <td>1.0</td>\n",
              "      <td>27</td>\n",
              "      <td>0.0</td>\n",
              "      <td>0</td>\n",
              "      <td>0</td>\n",
              "      <td>0</td>\n",
              "      <td>1</td>\n",
              "      <td>1</td>\n",
              "    </tr>\n",
              "  </tbody>\n",
              "</table>\n",
              "</div>"
            ],
            "text/plain": [
              "   count_1  routine_flg  period  ...  class_name_オールタイム  class_name_デイタイム  gender_F\n",
              "0     10.0          1.0       0  ...                  1                 0         1\n",
              "1      6.0          1.0      16  ...                  0                 0         0\n",
              "2      5.0          1.0       3  ...                  0                 1         1\n",
              "3      2.0          1.0      30  ...                  0                 0         0\n",
              "4      6.0          1.0      27  ...                  0                 1         1\n",
              "\n",
              "[5 rows x 9 columns]"
            ]
          },
          "metadata": {
            "tags": []
          },
          "execution_count": 15
        }
      ]
    },
    {
      "cell_type": "markdown",
      "metadata": {
        "id": "4Ynsat8qFmId"
      },
      "source": [
        "# ノック47：決定木を用いて退会予測モデルを作成してみよう"
      ]
    },
    {
      "cell_type": "markdown",
      "metadata": {
        "id": "PT2PhJyjFwve"
      },
      "source": [
        "## 1.退会予測モデルを構築"
      ]
    },
    {
      "cell_type": "code",
      "metadata": {
        "id": "Fo7qjmOpFdUs"
      },
      "source": [
        "from sklearn.tree import DecisionTreeClassifier\n",
        "import sklearn.model_selection"
      ],
      "execution_count": 16,
      "outputs": []
    },
    {
      "cell_type": "code",
      "metadata": {
        "id": "IVIZ-WNeF72Q"
      },
      "source": [
        "exit=predict_data.loc[predict_data[\"is_deleted\"]==1]\n",
        "conti=predict_data.loc[predict_data[\"is_deleted\"]==0].sample(len(exit))\n",
        "\n",
        "X=pd.concat([exit,conti],ignore_index=True)\n",
        "y=X[\"is_deleted\"]\n",
        "del X[\"is_deleted\"]"
      ],
      "execution_count": 17,
      "outputs": []
    },
    {
      "cell_type": "code",
      "metadata": {
        "id": "WW-xEKiTGoyP"
      },
      "source": [
        "X_train,X_test,y_train,y_test=sklearn.model_selection.train_test_split(X,y)"
      ],
      "execution_count": 18,
      "outputs": []
    },
    {
      "cell_type": "code",
      "metadata": {
        "id": "OJVjxsTjGzp5",
        "outputId": "a0fe9b53-d1fa-4dc6-bbb8-e8db9971302f",
        "colab": {
          "base_uri": "https://localhost:8080/"
        }
      },
      "source": [
        "model=DecisionTreeClassifier(random_state=0)\n",
        "model.fit(X_train,y_train)\n",
        "y_test_pred=model.predict(X_test)\n",
        "print(y_test_pred)"
      ],
      "execution_count": 19,
      "outputs": [
        {
          "output_type": "stream",
          "text": [
            "[1. 0. 0. 1. 1. 1. 1. 0. 1. 0. 1. 0. 1. 0. 1. 0. 0. 1. 0. 0. 0. 0. 0. 0.\n",
            " 0. 0. 1. 0. 1. 0. 0. 1. 0. 0. 0. 1. 0. 1. 0. 1. 0. 0. 1. 1. 1. 1. 0. 1.\n",
            " 1. 0. 0. 1. 0. 0. 0. 0. 0. 0. 0. 0. 1. 1. 0. 1. 1. 1. 0. 1. 0. 0. 0. 1.\n",
            " 1. 1. 1. 1. 0. 0. 0. 0. 0. 0. 0. 1. 0. 1. 1. 1. 0. 0. 0. 1. 0. 1. 0. 0.\n",
            " 1. 0. 1. 0. 0. 1. 0. 1. 1. 1. 0. 1. 0. 1. 0. 0. 1. 1. 0. 1. 1. 1. 0. 0.\n",
            " 1. 0. 1. 0. 1. 0. 0. 0. 1. 0. 1. 1. 0. 1. 0. 1. 1. 1. 0. 1. 0. 0. 0. 1.\n",
            " 0. 1. 0. 1. 0. 0. 0. 0. 1. 0. 0. 0. 1. 1. 1. 1. 1. 0. 1. 1. 0. 1. 1. 1.\n",
            " 0. 1. 0. 1. 0. 0. 0. 1. 1. 0. 1. 0. 1. 0. 0. 0. 0. 0. 0. 0. 0. 1. 0. 0.\n",
            " 1. 0. 1. 0. 1. 0. 1. 1. 0. 1. 0. 1. 0. 0. 1. 0. 1. 1. 1. 1. 1. 0. 0. 0.\n",
            " 1. 1. 1. 1. 1. 1. 0. 0. 1. 1. 0. 0. 0. 1. 1. 1. 1. 0. 1. 1. 0. 1. 1. 1.\n",
            " 0. 0. 1. 1. 1. 0. 1. 0. 0. 0. 1. 0. 1. 0. 0. 0. 1. 0. 0. 0. 1. 1. 1. 0.\n",
            " 0. 0. 0. 1. 0. 0. 1. 0. 1. 1. 0. 1. 1. 0. 1. 0. 0. 0. 0. 0. 0. 1. 1. 1.\n",
            " 0. 0. 0. 0. 0. 0. 0. 0. 0. 0. 1. 0. 0. 0. 0. 0. 0. 1. 1. 0. 1. 0. 1. 0.\n",
            " 1. 1. 0. 1. 0. 0. 0. 0. 1. 1. 0. 0. 1. 0. 1. 1. 1. 0. 1. 0. 1. 1. 0. 1.\n",
            " 1. 0. 0. 0. 0. 1. 0. 0. 0. 1. 1. 1. 1. 1. 1. 1. 0. 1. 0. 1. 1. 1. 1. 0.\n",
            " 0. 0. 1. 1. 0. 0. 0. 1. 1. 0. 1. 0. 1. 1. 1. 0. 0. 0. 0. 0. 0. 0. 0. 0.\n",
            " 1. 1. 0. 0. 1. 1. 0. 0. 1. 1. 1. 1. 0. 1. 0. 1. 1. 0. 1. 0. 0. 0. 1. 1.\n",
            " 1. 0. 1. 0. 0. 1. 0. 0. 1. 1. 0. 1. 0. 0. 0. 1. 1. 1. 1. 1. 0. 0. 1. 0.\n",
            " 0. 0. 0. 0. 0. 0. 0. 0. 1. 0. 1. 1. 1. 0. 0. 1. 1. 1. 1. 0. 1. 1. 1. 0.\n",
            " 1. 1. 1. 1. 1. 1. 0. 1. 0. 1. 1. 0. 0. 0. 0. 0. 1. 1. 1. 0. 0. 1. 0. 0.\n",
            " 1. 1. 1. 0. 1. 1. 0. 0. 0. 0. 1. 1. 0. 0. 0. 1. 1. 1. 1. 0. 0. 1. 1. 1.\n",
            " 0. 1. 1. 1. 0. 1. 1. 1. 0. 1. 1. 0. 1. 0. 1. 1. 0. 1. 0. 1. 1. 0.]\n"
          ],
          "name": "stdout"
        }
      ]
    },
    {
      "cell_type": "markdown",
      "metadata": {
        "id": "czQopoJZHfQp"
      },
      "source": [
        "## 2.会員期間の追加"
      ]
    },
    {
      "cell_type": "code",
      "metadata": {
        "id": "8kPf93obHO8m",
        "outputId": "df99683b-bbe1-4052-ee90-d2b437d81161",
        "colab": {
          "base_uri": "https://localhost:8080/",
          "height": 204
        }
      },
      "source": [
        "results_test=pd.DataFrame({\"y_test\":y_test,\"y_pred\":y_test_pred})\n",
        "results_test.head()"
      ],
      "execution_count": 20,
      "outputs": [
        {
          "output_type": "execute_result",
          "data": {
            "text/html": [
              "<div>\n",
              "<style scoped>\n",
              "    .dataframe tbody tr th:only-of-type {\n",
              "        vertical-align: middle;\n",
              "    }\n",
              "\n",
              "    .dataframe tbody tr th {\n",
              "        vertical-align: top;\n",
              "    }\n",
              "\n",
              "    .dataframe thead th {\n",
              "        text-align: right;\n",
              "    }\n",
              "</style>\n",
              "<table border=\"1\" class=\"dataframe\">\n",
              "  <thead>\n",
              "    <tr style=\"text-align: right;\">\n",
              "      <th></th>\n",
              "      <th>y_test</th>\n",
              "      <th>y_pred</th>\n",
              "    </tr>\n",
              "  </thead>\n",
              "  <tbody>\n",
              "    <tr>\n",
              "      <th>233</th>\n",
              "      <td>1.0</td>\n",
              "      <td>1.0</td>\n",
              "    </tr>\n",
              "    <tr>\n",
              "      <th>1700</th>\n",
              "      <td>0.0</td>\n",
              "      <td>0.0</td>\n",
              "    </tr>\n",
              "    <tr>\n",
              "      <th>1209</th>\n",
              "      <td>0.0</td>\n",
              "      <td>0.0</td>\n",
              "    </tr>\n",
              "    <tr>\n",
              "      <th>546</th>\n",
              "      <td>1.0</td>\n",
              "      <td>1.0</td>\n",
              "    </tr>\n",
              "    <tr>\n",
              "      <th>708</th>\n",
              "      <td>1.0</td>\n",
              "      <td>1.0</td>\n",
              "    </tr>\n",
              "  </tbody>\n",
              "</table>\n",
              "</div>"
            ],
            "text/plain": [
              "      y_test  y_pred\n",
              "233      1.0     1.0\n",
              "1700     0.0     0.0\n",
              "1209     0.0     0.0\n",
              "546      1.0     1.0\n",
              "708      1.0     1.0"
            ]
          },
          "metadata": {
            "tags": []
          },
          "execution_count": 20
        }
      ]
    },
    {
      "cell_type": "markdown",
      "metadata": {
        "id": "xrBlNz8_IQae"
      },
      "source": [
        "# ノック48：予測モデルの評価を行い、モデルのチューニングをしてみよう"
      ]
    },
    {
      "cell_type": "markdown",
      "metadata": {
        "id": "AXjD7Wk8IZ6S"
      },
      "source": [
        "## 1.学習用データと評価用データを用いた際の予測精度"
      ]
    },
    {
      "cell_type": "code",
      "metadata": {
        "id": "NA9XvvseIIRv",
        "outputId": "df2db32b-ffda-46d0-f797-6b8330d22028",
        "colab": {
          "base_uri": "https://localhost:8080/"
        }
      },
      "source": [
        "correct=len(results_test.loc[results_test[\"y_test\"]==results_test[\"y_pred\"]])\n",
        "data_count=len(results_test)\n",
        "score_test=correct/data_count\n",
        "print(score_test)"
      ],
      "execution_count": 21,
      "outputs": [
        {
          "output_type": "stream",
          "text": [
            "0.9201520912547528\n"
          ],
          "name": "stdout"
        }
      ]
    },
    {
      "cell_type": "code",
      "metadata": {
        "id": "tkAnDwIYI_BR",
        "outputId": "488698cc-b5f7-4b13-c9ad-a970366dd98d",
        "colab": {
          "base_uri": "https://localhost:8080/"
        }
      },
      "source": [
        "#学習データの適合率が97%になってしまい、過学習です。。。\n",
        "print(model.score(X_test,y_test))\n",
        "print(model.score(X_train,y_train))"
      ],
      "execution_count": 22,
      "outputs": [
        {
          "output_type": "stream",
          "text": [
            "0.9201520912547528\n",
            "0.9771863117870723\n"
          ],
          "name": "stdout"
        }
      ]
    },
    {
      "cell_type": "markdown",
      "metadata": {
        "id": "MCCx-TZ6Js4t"
      },
      "source": [
        "## 2.過学習対策(max_depthの調整)"
      ]
    },
    {
      "cell_type": "code",
      "metadata": {
        "id": "J5cl1wB7Jdl0",
        "outputId": "a3ca452f-3856-4d35-dbd3-f4c0559a39df",
        "colab": {
          "base_uri": "https://localhost:8080/"
        }
      },
      "source": [
        "X=pd.concat([exit,conti],ignore_index=True)\n",
        "y=X[\"is_deleted\"]\n",
        "del X[\"is_deleted\"]\n",
        "X_train,X_test,y_train,y_test=sklearn.model_selection.train_test_split(X,y)\n",
        "\n",
        "model=DecisionTreeClassifier(random_state=0,max_depth=5)\n",
        "model.fit(X_train,y_train)\n",
        "print(model.score(X_test,y_test))\n",
        "print(model.score(X_train,y_train))"
      ],
      "execution_count": 23,
      "outputs": [
        {
          "output_type": "stream",
          "text": [
            "0.9182509505703422\n",
            "0.9340937896070975\n"
          ],
          "name": "stdout"
        }
      ]
    },
    {
      "cell_type": "markdown",
      "metadata": {
        "id": "6c0_Go4dLiKY"
      },
      "source": [
        "# ノック49：モデルに寄与している変数を確認してみよう"
      ]
    },
    {
      "cell_type": "code",
      "metadata": {
        "id": "O3yDUKQZKkHn",
        "outputId": "b5041fff-b691-4916-8069-7fb81cad04b1",
        "colab": {
          "base_uri": "https://localhost:8080/",
          "height": 297
        }
      },
      "source": [
        "importance=pd.DataFrame({\"feature_names\":X.columns,\"coefficient\":model.feature_importances_})\n",
        "importance"
      ],
      "execution_count": 24,
      "outputs": [
        {
          "output_type": "execute_result",
          "data": {
            "text/html": [
              "<div>\n",
              "<style scoped>\n",
              "    .dataframe tbody tr th:only-of-type {\n",
              "        vertical-align: middle;\n",
              "    }\n",
              "\n",
              "    .dataframe tbody tr th {\n",
              "        vertical-align: top;\n",
              "    }\n",
              "\n",
              "    .dataframe thead th {\n",
              "        text-align: right;\n",
              "    }\n",
              "</style>\n",
              "<table border=\"1\" class=\"dataframe\">\n",
              "  <thead>\n",
              "    <tr style=\"text-align: right;\">\n",
              "      <th></th>\n",
              "      <th>feature_names</th>\n",
              "      <th>coefficient</th>\n",
              "    </tr>\n",
              "  </thead>\n",
              "  <tbody>\n",
              "    <tr>\n",
              "      <th>0</th>\n",
              "      <td>count_1</td>\n",
              "      <td>0.355556</td>\n",
              "    </tr>\n",
              "    <tr>\n",
              "      <th>1</th>\n",
              "      <td>routine_flg</td>\n",
              "      <td>0.144316</td>\n",
              "    </tr>\n",
              "    <tr>\n",
              "      <th>2</th>\n",
              "      <td>period</td>\n",
              "      <td>0.495768</td>\n",
              "    </tr>\n",
              "    <tr>\n",
              "      <th>3</th>\n",
              "      <td>campaign_name_入会費半額</td>\n",
              "      <td>0.003874</td>\n",
              "    </tr>\n",
              "    <tr>\n",
              "      <th>4</th>\n",
              "      <td>campaign_name_入会費無料</td>\n",
              "      <td>0.000000</td>\n",
              "    </tr>\n",
              "    <tr>\n",
              "      <th>5</th>\n",
              "      <td>class_name_オールタイム</td>\n",
              "      <td>0.000000</td>\n",
              "    </tr>\n",
              "    <tr>\n",
              "      <th>6</th>\n",
              "      <td>class_name_デイタイム</td>\n",
              "      <td>0.000000</td>\n",
              "    </tr>\n",
              "    <tr>\n",
              "      <th>7</th>\n",
              "      <td>gender_F</td>\n",
              "      <td>0.000486</td>\n",
              "    </tr>\n",
              "  </tbody>\n",
              "</table>\n",
              "</div>"
            ],
            "text/plain": [
              "         feature_names  coefficient\n",
              "0              count_1     0.355556\n",
              "1          routine_flg     0.144316\n",
              "2               period     0.495768\n",
              "3  campaign_name_入会費半額     0.003874\n",
              "4  campaign_name_入会費無料     0.000000\n",
              "5    class_name_オールタイム     0.000000\n",
              "6     class_name_デイタイム     0.000000\n",
              "7             gender_F     0.000486"
            ]
          },
          "metadata": {
            "tags": []
          },
          "execution_count": 24
        }
      ]
    },
    {
      "cell_type": "markdown",
      "metadata": {
        "id": "dkLk8f04N9yb"
      },
      "source": [
        "# ノック50：顧客の退会を予測しよう"
      ]
    },
    {
      "cell_type": "code",
      "metadata": {
        "id": "foGTvKw4MCZ0"
      },
      "source": [
        "count_1=3\n",
        "routing_flg=1\n",
        "period=10\n",
        "campaign_name=\"入会費無料\"\n",
        "class_name=\"オールタイム\"\n",
        "gender=\"M\""
      ],
      "execution_count": 25,
      "outputs": []
    },
    {
      "cell_type": "code",
      "metadata": {
        "id": "q9_k-46_N1sU"
      },
      "source": [
        "if campaign_name==\"入会費半額\":\n",
        "    campaign_name_list=[1,0]\n",
        "elif campaign_name==\"入会費無料\":\n",
        "    campaign_name_list=[0,1]\n",
        "elif campaign_name==\"通常\":\n",
        "    campaign_name_list=[0,0]\n",
        "if class_name==\"オールタイム\":\n",
        "    class_name_list=[1,0]\n",
        "elif class_name==\"デイタイム\":\n",
        "    class_name_list=[0,1]\n",
        "elif class_name==\"ナイト\":\n",
        "    class_name_list=[0,0]\n",
        "if gender==\"F\":\n",
        "    gender_list=[1]\n",
        "elif gender==\"M\":\n",
        "    gender_list=[0]\n",
        "input_data=[count_1,routing_flg,period]\n",
        "input_data.extend(campaign_name_list)\n",
        "input_data.extend(class_name_list)\n",
        "input_data.extend(gender_list)"
      ],
      "execution_count": 26,
      "outputs": []
    },
    {
      "cell_type": "code",
      "metadata": {
        "id": "wCgUhuU6P5xN",
        "outputId": "972e944a-f22d-42c2-9ca0-6342a75554a2",
        "colab": {
          "base_uri": "https://localhost:8080/"
        }
      },
      "source": [
        "print(model.predict([input_data]))\n",
        "print(model.predict_proba([input_data]))"
      ],
      "execution_count": 27,
      "outputs": [
        {
          "output_type": "stream",
          "text": [
            "[1.]\n",
            "[[0. 1.]]\n"
          ],
          "name": "stdout"
        }
      ]
    },
    {
      "cell_type": "code",
      "metadata": {
        "id": "hzuDTs97QpWn"
      },
      "source": [
        ""
      ],
      "execution_count": 27,
      "outputs": []
    }
  ]
}