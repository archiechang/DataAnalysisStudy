{
  "nbformat": 4,
  "nbformat_minor": 0,
  "metadata": {
    "colab": {
      "provenance": [],
      "authorship_tag": "ABX9TyPzZkkR3zN/3iwWNIYnnwNB",
      "include_colab_link": true
    },
    "kernelspec": {
      "name": "python3",
      "display_name": "Python 3"
    }
  },
  "cells": [
    {
      "cell_type": "markdown",
      "metadata": {
        "id": "view-in-github",
        "colab_type": "text"
      },
      "source": [
        "<a href=\"https://colab.research.google.com/github/archiechang/study/blob/master/adhoc/Python%E3%81%AB%E3%82%88%E3%82%8B%E3%83%87%E3%83%BC%E3%82%BF%E5%88%86%E6%9E%90%E5%85%A5%E9%96%80.ipynb\" target=\"_parent\"><img src=\"https://colab.research.google.com/assets/colab-badge.svg\" alt=\"Open In Colab\"/></a>"
      ]
    },
    {
      "cell_type": "markdown",
      "source": [
        "# モデルの評価と改良"
      ],
      "metadata": {
        "id": "2Tzz1jqj90tR"
      }
    },
    {
      "cell_type": "code",
      "source": [
        "%matplotlib inline\n",
        "from sklearn.datasets import make_blobs\n",
        "from sklearn.linear_model import LogisticRegression\n",
        "from sklearn.model_selection import train_test_split"
      ],
      "metadata": {
        "id": "r8tASp_A-POX"
      },
      "execution_count": null,
      "outputs": []
    },
    {
      "cell_type": "code",
      "source": [
        "#Model Evaluation and Improvement\n",
        "X,y=make_blobs(random_state=0)\n",
        "X_train,X_test,y_train,y_test=train_test_split(X,y,random_state=0)\n",
        "logreg=LogisticRegression().fit(X_train,y_train)\n",
        "print(\"Test set score:{:.2f}\".format(logreg.score(X_test,y_test)))"
      ],
      "metadata": {
        "colab": {
          "base_uri": "https://localhost:8080/"
        },
        "id": "EL9Kbh3R-tBk",
        "outputId": "cec58904-2966-4a51-acba-1ecc55aa34bd"
      },
      "execution_count": null,
      "outputs": [
        {
          "output_type": "stream",
          "name": "stdout",
          "text": [
            "Test set score:0.88\n"
          ]
        }
      ]
    },
    {
      "cell_type": "code",
      "source": [
        "#Cross-Validation\n",
        "from sklearn.model_selection import cross_val_score\n",
        "from sklearn.datasets import load_iris\n",
        "\n",
        "iris=load_iris()\n",
        "logreg=LogisticRegression(max_iter=1000)\n",
        "\n",
        "scores=cross_val_score(logreg,iris.data,iris.target)\n",
        "print(\"Cross-validation scores:{}\".format(scores))"
      ],
      "metadata": {
        "colab": {
          "base_uri": "https://localhost:8080/"
        },
        "id": "yUDA_Irk-s88",
        "outputId": "01c5c3c9-0bd8-4997-d603-3c55df5ea5e1"
      },
      "execution_count": null,
      "outputs": [
        {
          "output_type": "stream",
          "name": "stdout",
          "text": [
            "Cross-validation scores:[0.96666667 1.         0.93333333 0.96666667 1.        ]\n"
          ]
        }
      ]
    },
    {
      "cell_type": "code",
      "source": [
        "scores=cross_val_score(logreg,iris.data,iris.target,cv=5)\n",
        "print(\"Cross-validation scores:{}\".format(scores))"
      ],
      "metadata": {
        "colab": {
          "base_uri": "https://localhost:8080/"
        },
        "id": "6YG3szYk-s5a",
        "outputId": "dbd357a6-4024-43df-9e93-ca27f66e9ed6"
      },
      "execution_count": null,
      "outputs": [
        {
          "output_type": "stream",
          "name": "stdout",
          "text": [
            "Cross-validation scores:[0.96666667 1.         0.93333333 0.96666667 1.        ]\n"
          ]
        }
      ]
    },
    {
      "cell_type": "code",
      "source": [
        "print(\"Average cross-validation score:{:.2f}\".format(scores.mean()))"
      ],
      "metadata": {
        "colab": {
          "base_uri": "https://localhost:8080/"
        },
        "id": "nQmig7FK-s2q",
        "outputId": "19f997ce-e016-4f76-c654-ec6e97f66c8a"
      },
      "execution_count": null,
      "outputs": [
        {
          "output_type": "stream",
          "name": "stdout",
          "text": [
            "Average cross-validation score:0.97\n"
          ]
        }
      ]
    },
    {
      "cell_type": "code",
      "source": [
        "#Stratified K-Fold cross-validation and other strategies\n",
        "from sklearn.model_selection import KFold\n",
        "kfold=KFold(n_splits=5)"
      ],
      "metadata": {
        "id": "CezecBX6-szI"
      },
      "execution_count": null,
      "outputs": []
    },
    {
      "cell_type": "code",
      "source": [
        "print(\"Cross-validation scores:\\n{}\".format(\n",
        "    cross_val_score(logreg,iris.data,iris.target,cv=kfold)\n",
        "))"
      ],
      "metadata": {
        "colab": {
          "base_uri": "https://localhost:8080/"
        },
        "id": "dZr-ahwq-swC",
        "outputId": "32492978-26a7-4db2-bb70-a98478e2b1e8"
      },
      "execution_count": null,
      "outputs": [
        {
          "output_type": "stream",
          "name": "stdout",
          "text": [
            "Cross-validation scores:\n",
            "[1.         1.         0.86666667 0.93333333 0.83333333]\n"
          ]
        }
      ]
    },
    {
      "cell_type": "code",
      "source": [
        "kfold=KFold(n_splits=3)\n",
        "print(\"Cross-validation scores:\\n{}\".format(cross_val_score(logreg,iris.data,iris.target,cv=kfold)\n",
        "))"
      ],
      "metadata": {
        "colab": {
          "base_uri": "https://localhost:8080/"
        },
        "id": "l6inaFXF-stZ",
        "outputId": "ff78a14a-ecce-462d-862b-05bb10f20eda"
      },
      "execution_count": null,
      "outputs": [
        {
          "output_type": "stream",
          "name": "stdout",
          "text": [
            "Cross-validation scores:\n",
            "[0. 0. 0.]\n"
          ]
        }
      ]
    },
    {
      "cell_type": "code",
      "source": [
        "kfold=KFold(n_splits=3,shuffle=True,random_state=0)\n",
        "print(\"Cross-validation scores:\\n{}\".format(\n",
        "    cross_val_score(logreg,iris.data,iris.target,cv=kfold)\n",
        "))"
      ],
      "metadata": {
        "colab": {
          "base_uri": "https://localhost:8080/"
        },
        "id": "G3MzTqMw-squ",
        "outputId": "505ac5ba-8e9c-4250-de45-64f27c5f89c5"
      },
      "execution_count": null,
      "outputs": [
        {
          "output_type": "stream",
          "name": "stdout",
          "text": [
            "Cross-validation scores:\n",
            "[0.98 0.96 0.96]\n"
          ]
        }
      ]
    },
    {
      "cell_type": "code",
      "source": [
        "#Leave-one-out cross-validation\n",
        "from sklearn.model_selection import LeaveOneOut\n",
        "loo=LeaveOneOut()\n",
        "scores=cross_val_score(logreg,iris.data,iris.target,cv=loo)\n",
        "print(\"Number of cv iterations:\",len(scores))\n",
        "print(\"Mean accuracy:{:.2f}\".format(scores.mean()))"
      ],
      "metadata": {
        "colab": {
          "base_uri": "https://localhost:8080/"
        },
        "id": "kuFw5cg2-soC",
        "outputId": "fbcfebe6-c77a-49c8-fe34-230984b20ec0"
      },
      "execution_count": null,
      "outputs": [
        {
          "output_type": "stream",
          "name": "stdout",
          "text": [
            "Number of cv iterations: 150\n",
            "Mean accuracy:0.97\n"
          ]
        }
      ]
    },
    {
      "cell_type": "code",
      "source": [
        "#Shuffle-split cross-validation\n",
        "from sklearn.model_selection import ShuffleSplit\n",
        "shuffle_split = ShuffleSplit(test_size=.5, train_size=.5, n_splits=10)\n",
        "scores = cross_val_score(logreg, iris.data, iris.target, cv=shuffle_split)\n",
        "print(\"Cross-validation scores:\\n{}\".format(scores))"
      ],
      "metadata": {
        "colab": {
          "base_uri": "https://localhost:8080/"
        },
        "id": "iZ0Ksw_TE1LI",
        "outputId": "443f0299-030d-4f05-bdd0-acd565377f87"
      },
      "execution_count": null,
      "outputs": [
        {
          "output_type": "stream",
          "name": "stdout",
          "text": [
            "Cross-validation scores:\n",
            "[0.97333333 0.97333333 0.93333333 0.97333333 0.92       0.97333333\n",
            " 0.93333333 0.92       0.96       0.94666667]\n"
          ]
        }
      ]
    },
    {
      "cell_type": "code",
      "source": [
        "#Cross-validation with groups\n",
        "from sklearn.model_selection import GroupKFold\n",
        "grout_kfold=GroupKFold(n_splits=3)\n",
        "X,y=make_blobs(n_samples=12,random_state=0)\n",
        "# assume the first three samples belong to the same group,\n",
        "# then the next four, etc.\n",
        "groups=[0,0,0,1,1,1,1,2,2,3,3,3]\n",
        "scores=cross_val_score(logreg,X,y,groups=groups,cv=grout_kfold)\n",
        "print(\"Cross-validation scores:\\n{}\".format(scores))"
      ],
      "metadata": {
        "colab": {
          "base_uri": "https://localhost:8080/"
        },
        "id": "2HKjkKAnE1IA",
        "outputId": "7f54de8a-5418-45a6-cc9e-d651ffd58e58"
      },
      "execution_count": null,
      "outputs": [
        {
          "output_type": "stream",
          "name": "stdout",
          "text": [
            "Cross-validation scores:\n",
            "[0.75       0.6        0.66666667]\n"
          ]
        }
      ]
    },
    {
      "cell_type": "code",
      "source": [],
      "metadata": {
        "id": "sczhzqh3E1FP"
      },
      "execution_count": null,
      "outputs": []
    },
    {
      "cell_type": "code",
      "source": [],
      "metadata": {
        "id": "_UDksEdbE1CY"
      },
      "execution_count": null,
      "outputs": []
    },
    {
      "cell_type": "code",
      "source": [],
      "metadata": {
        "id": "3UQsS1WRE0_X"
      },
      "execution_count": null,
      "outputs": []
    },
    {
      "cell_type": "code",
      "source": [],
      "metadata": {
        "id": "32FM-2RGE08e"
      },
      "execution_count": null,
      "outputs": []
    },
    {
      "cell_type": "code",
      "source": [],
      "metadata": {
        "id": "F-TPRoU4E05H"
      },
      "execution_count": null,
      "outputs": []
    },
    {
      "cell_type": "code",
      "source": [],
      "metadata": {
        "id": "vxQ7HMhWE01I"
      },
      "execution_count": null,
      "outputs": []
    },
    {
      "cell_type": "code",
      "source": [],
      "metadata": {
        "id": "7aGq8Sia-sgQ"
      },
      "execution_count": null,
      "outputs": []
    },
    {
      "cell_type": "markdown",
      "source": [
        "# 第三章　関数・ファイルの扱い"
      ],
      "metadata": {
        "id": "fDoN98caCydD"
      }
    },
    {
      "cell_type": "markdown",
      "source": [
        "## 3.2 関数"
      ],
      "metadata": {
        "id": "0xfX-rIpC3vQ"
      }
    },
    {
      "cell_type": "markdown",
      "source": [
        "### 3.2.2 複数の値を戻す"
      ],
      "metadata": {
        "id": "ymnpTTfoDOVR"
      }
    },
    {
      "cell_type": "code",
      "metadata": {
        "colab": {
          "base_uri": "https://localhost:8080/"
        },
        "id": "ztbsLcx7CyFZ",
        "outputId": "4eed16d9-ede6-4d0d-ae11-72f0df35e405"
      },
      "source": [
        "def f():\n",
        "    a=5\n",
        "    b=6\n",
        "    c=7\n",
        "    return a,b,c\n",
        "\n",
        "a,b,c=f()\n",
        "return_value =f()\n",
        "print(a,b,c)\n",
        "print(return_value)"
      ],
      "execution_count": null,
      "outputs": [
        {
          "output_type": "stream",
          "name": "stdout",
          "text": [
            "5 6 7\n",
            "(5, 6, 7)\n"
          ]
        }
      ]
    },
    {
      "cell_type": "code",
      "metadata": {
        "id": "YxwfuIWUC2fk",
        "colab": {
          "base_uri": "https://localhost:8080/"
        },
        "outputId": "ccd8f2b9-9696-4450-a51f-77dc4507aed9"
      },
      "source": [
        "def f():\n",
        "    a=5\n",
        "    b=6\n",
        "    c=7\n",
        "    return {'a':a,'b':b,'c':c}\n",
        "\n",
        "list_a=f()\n",
        "print(list_a['a'])"
      ],
      "execution_count": null,
      "outputs": [
        {
          "output_type": "stream",
          "name": "stdout",
          "text": [
            "5\n"
          ]
        }
      ]
    },
    {
      "cell_type": "markdown",
      "source": [
        "### 3.2.3 正規表現(re)"
      ],
      "metadata": {
        "id": "K_vuBTJ-F04S"
      }
    },
    {
      "cell_type": "code",
      "metadata": {
        "id": "GfWE69cDDLNF"
      },
      "source": [
        "import re"
      ],
      "execution_count": null,
      "outputs": []
    },
    {
      "cell_type": "code",
      "source": [
        "status=['   Alabama','Georgia!','Georgia','georgia','FlOrIda','south   carolina##','West virginia?']"
      ],
      "metadata": {
        "id": "gUW31QN3Gtex"
      },
      "execution_count": null,
      "outputs": []
    },
    {
      "cell_type": "code",
      "metadata": {
        "id": "4np_awExDMgt"
      },
      "source": [
        "#方法1\n",
        "def clean_strings(strings):\n",
        "    result=[]\n",
        "    for value in strings:\n",
        "        #両端（先頭、末尾）の文字を削除\n",
        "        value=value.strip()\n",
        "        #正規表現にマッチする文字列を削除\n",
        "        value=re.sub('[!#?]','',value)\n",
        "        #単語の先頭の一文字を大文字、他を小文字に変換\n",
        "        value=value.title()\n",
        "        result.append(value)\n",
        "    return result"
      ],
      "execution_count": null,
      "outputs": []
    },
    {
      "cell_type": "code",
      "metadata": {
        "id": "qzwUphIsDm0t",
        "colab": {
          "base_uri": "https://localhost:8080/"
        },
        "outputId": "00d18bac-e8e4-431f-ba5b-cc8d29279557"
      },
      "source": [
        "clean_strings(status)"
      ],
      "execution_count": null,
      "outputs": [
        {
          "output_type": "execute_result",
          "data": {
            "text/plain": [
              "['Alabama',\n",
              " 'Georgia',\n",
              " 'Georgia',\n",
              " 'Georgia',\n",
              " 'Florida',\n",
              " 'South   Carolina',\n",
              " 'West Virginia']"
            ]
          },
          "metadata": {},
          "execution_count": 6
        }
      ]
    },
    {
      "cell_type": "code",
      "source": [
        "#方法2\n",
        "def remove_punctuation(value):\n",
        "    return re.sub('[!#?]','',value)\n",
        "\n",
        "clean_ops =[str.strip,remove_punctuation,str.title]\n",
        "\n",
        "def clean_strings(strings,ops):\n",
        "    result=[]\n",
        "    for value in strings:\n",
        "        for function in ops:\n",
        "            value=function(value)\n",
        "        result.append(value)\n",
        "    return result"
      ],
      "metadata": {
        "id": "5Cy_TYqRH55j"
      },
      "execution_count": null,
      "outputs": []
    },
    {
      "cell_type": "code",
      "source": [
        "clean_strings(status,clean_ops)"
      ],
      "metadata": {
        "colab": {
          "base_uri": "https://localhost:8080/"
        },
        "id": "FY5CtzJfRKDa",
        "outputId": "b3695a82-b564-4a87-ee7f-ba6aeef01f8f"
      },
      "execution_count": null,
      "outputs": [
        {
          "output_type": "execute_result",
          "data": {
            "text/plain": [
              "['Alabama',\n",
              " 'Georgia',\n",
              " 'Georgia',\n",
              " 'Georgia',\n",
              " 'Florida',\n",
              " 'South   Carolina',\n",
              " 'West Virginia']"
            ]
          },
          "metadata": {},
          "execution_count": 8
        }
      ]
    },
    {
      "cell_type": "markdown",
      "source": [
        "### 3.2.4 無名(ラムダ)関数"
      ],
      "metadata": {
        "id": "Z4IG1VyxnIKX"
      }
    },
    {
      "cell_type": "code",
      "source": [
        "def apply_to_list(some_list,f):\n",
        "    return [f(x) for x in some_list]\n",
        "\n",
        "ints=[4,0,1,5,6]\n",
        "apply_to_list(ints,lambda x: x * 2)"
      ],
      "metadata": {
        "id": "pXiie51dROg1",
        "colab": {
          "base_uri": "https://localhost:8080/"
        },
        "outputId": "e2240667-71f4-4654-ae8c-5dd53971a979"
      },
      "execution_count": null,
      "outputs": [
        {
          "output_type": "execute_result",
          "data": {
            "text/plain": [
              "[8, 0, 2, 10, 12]"
            ]
          },
          "metadata": {},
          "execution_count": 9
        }
      ]
    },
    {
      "cell_type": "code",
      "source": [
        "strings=['foo','card','bar','aaaa','abab']\n",
        "strings.sort(key=lambda x: len(set(list(x))))\n",
        "strings"
      ],
      "metadata": {
        "colab": {
          "base_uri": "https://localhost:8080/"
        },
        "id": "iQUWpXAepCF8",
        "outputId": "10a38a41-0b10-4dee-b868-2f065fc75fce"
      },
      "execution_count": null,
      "outputs": [
        {
          "output_type": "execute_result",
          "data": {
            "text/plain": [
              "['aaaa', 'foo', 'abab', 'bar', 'card']"
            ]
          },
          "metadata": {},
          "execution_count": 10
        }
      ]
    },
    {
      "cell_type": "markdown",
      "source": [
        "### 3.2.6 ジェネレータ式"
      ],
      "metadata": {
        "id": "RaTaTwUJr5rL"
      }
    },
    {
      "cell_type": "code",
      "source": [
        "some_dict={'a':1,'b':2,'c':3,'d':4}\n",
        "for key in some_dict:\n",
        "    print(key)"
      ],
      "metadata": {
        "colab": {
          "base_uri": "https://localhost:8080/"
        },
        "id": "dBUvGR_bqPwQ",
        "outputId": "096deffb-75cb-43ae-fa39-4af9f9558ddc"
      },
      "execution_count": null,
      "outputs": [
        {
          "output_type": "stream",
          "name": "stdout",
          "text": [
            "a\n",
            "b\n",
            "c\n",
            "d\n"
          ]
        }
      ]
    },
    {
      "cell_type": "code",
      "source": [
        "dict_iterator=iter(some_dict)"
      ],
      "metadata": {
        "id": "xr5XfGUbtuDh"
      },
      "execution_count": null,
      "outputs": []
    },
    {
      "cell_type": "code",
      "source": [
        "dict_iterator"
      ],
      "metadata": {
        "colab": {
          "base_uri": "https://localhost:8080/"
        },
        "id": "QMWe9fL0uBhc",
        "outputId": "a958e6b2-ce05-42a0-86de-9f405e8d449a"
      },
      "execution_count": null,
      "outputs": [
        {
          "output_type": "execute_result",
          "data": {
            "text/plain": [
              "<dict_keyiterator at 0x7f68784e9b30>"
            ]
          },
          "metadata": {},
          "execution_count": 15
        }
      ]
    },
    {
      "cell_type": "code",
      "source": [],
      "metadata": {
        "id": "24guVNYFuEVz"
      },
      "execution_count": null,
      "outputs": []
    },
    {
      "cell_type": "markdown",
      "source": [
        "# 第四章　Numpyの基礎"
      ],
      "metadata": {
        "id": "ACWR7OLuY_c8"
      }
    },
    {
      "cell_type": "markdown",
      "source": [
        "## 4.1　Numpy ndarray:多次元配列オブジェクト"
      ],
      "metadata": {
        "id": "f48Enez4aPsZ"
      }
    },
    {
      "cell_type": "code",
      "source": [
        "import numpy as np"
      ],
      "metadata": {
        "id": "Qz5eWmB3ZWDo"
      },
      "execution_count": null,
      "outputs": []
    },
    {
      "cell_type": "code",
      "source": [
        "data=np.random.randn(2,3)\n",
        "data"
      ],
      "metadata": {
        "colab": {
          "base_uri": "https://localhost:8080/"
        },
        "id": "y3K9ZFt-aa_a",
        "outputId": "3c1ed567-a0f6-4dfa-d239-d383d0d70f9e"
      },
      "execution_count": null,
      "outputs": [
        {
          "output_type": "execute_result",
          "data": {
            "text/plain": [
              "array([[-0.9326933 ,  0.04395013, -0.19643556],\n",
              "       [-1.19673591,  0.20403647, -0.10701998]])"
            ]
          },
          "metadata": {},
          "execution_count": 3
        }
      ]
    },
    {
      "cell_type": "code",
      "source": [
        "data*10"
      ],
      "metadata": {
        "colab": {
          "base_uri": "https://localhost:8080/"
        },
        "id": "iDrGGRJxakJ_",
        "outputId": "cdff7f6c-0a49-40f4-f2f7-3c4c172684e1"
      },
      "execution_count": null,
      "outputs": [
        {
          "output_type": "execute_result",
          "data": {
            "text/plain": [
              "array([[ -9.32693297,   0.4395013 ,  -1.96435563],\n",
              "       [-11.96735909,   2.04036466,  -1.07019979]])"
            ]
          },
          "metadata": {},
          "execution_count": 4
        }
      ]
    },
    {
      "cell_type": "code",
      "source": [
        "data + data"
      ],
      "metadata": {
        "colab": {
          "base_uri": "https://localhost:8080/"
        },
        "id": "_JfDINkWb-uQ",
        "outputId": "ad48c97a-e3f2-459a-9bbf-6ba140a4d6ff"
      },
      "execution_count": null,
      "outputs": [
        {
          "output_type": "execute_result",
          "data": {
            "text/plain": [
              "array([[-1.86538659,  0.08790026, -0.39287113],\n",
              "       [-2.39347182,  0.40807293, -0.21403996]])"
            ]
          },
          "metadata": {},
          "execution_count": 5
        }
      ]
    },
    {
      "cell_type": "code",
      "source": [
        "data.shape"
      ],
      "metadata": {
        "colab": {
          "base_uri": "https://localhost:8080/"
        },
        "id": "jCHFBBbOcBzI",
        "outputId": "578c3901-84f4-4406-de6f-c1e0466453fc"
      },
      "execution_count": null,
      "outputs": [
        {
          "output_type": "execute_result",
          "data": {
            "text/plain": [
              "(2, 3)"
            ]
          },
          "metadata": {},
          "execution_count": 7
        }
      ]
    },
    {
      "cell_type": "code",
      "source": [
        "data.dtype"
      ],
      "metadata": {
        "colab": {
          "base_uri": "https://localhost:8080/"
        },
        "id": "Y-EyVEhPcdtY",
        "outputId": "bcb4e964-22e0-4ac7-90b9-6b6c26a59eef"
      },
      "execution_count": null,
      "outputs": [
        {
          "output_type": "execute_result",
          "data": {
            "text/plain": [
              "dtype('float64')"
            ]
          },
          "metadata": {},
          "execution_count": 8
        }
      ]
    },
    {
      "cell_type": "code",
      "source": [
        "data1=[6,7.5,8,0,1]\n",
        "arr1=np.array(data1)\n",
        "arr1"
      ],
      "metadata": {
        "colab": {
          "base_uri": "https://localhost:8080/"
        },
        "id": "3Ym2XMlrcgf4",
        "outputId": "98b738c8-ad4f-4bda-84e6-08c9db5f1ac5"
      },
      "execution_count": null,
      "outputs": [
        {
          "output_type": "execute_result",
          "data": {
            "text/plain": [
              "array([6. , 7.5, 8. , 0. , 1. ])"
            ]
          },
          "metadata": {},
          "execution_count": 9
        }
      ]
    },
    {
      "cell_type": "code",
      "source": [
        "data2=[[1,2,3,4],[5,6,7,8]]\n",
        "arr2=np.array(data2)\n",
        "arr2"
      ],
      "metadata": {
        "colab": {
          "base_uri": "https://localhost:8080/"
        },
        "id": "VqAPEk8Kdofw",
        "outputId": "ce8eb30d-de74-495a-8386-bd41976e3543"
      },
      "execution_count": null,
      "outputs": [
        {
          "output_type": "execute_result",
          "data": {
            "text/plain": [
              "array([[1, 2, 3, 4],\n",
              "       [5, 6, 7, 8]])"
            ]
          },
          "metadata": {},
          "execution_count": 10
        }
      ]
    },
    {
      "cell_type": "code",
      "source": [
        "np.zeros((1,2))"
      ],
      "metadata": {
        "colab": {
          "base_uri": "https://localhost:8080/"
        },
        "id": "ni3cpvH9eSf5",
        "outputId": "99e099bf-8db8-46df-ce07-20fdf0b2772c"
      },
      "execution_count": null,
      "outputs": [
        {
          "output_type": "execute_result",
          "data": {
            "text/plain": [
              "array([[0., 0.]])"
            ]
          },
          "metadata": {},
          "execution_count": 11
        }
      ]
    },
    {
      "cell_type": "code",
      "source": [
        "np.ones((4,4))"
      ],
      "metadata": {
        "colab": {
          "base_uri": "https://localhost:8080/"
        },
        "id": "iX-uInCWfKgo",
        "outputId": "b1f16e28-e1b0-4034-e1c4-3e5bbe02a9c9"
      },
      "execution_count": null,
      "outputs": [
        {
          "output_type": "execute_result",
          "data": {
            "text/plain": [
              "array([[1., 1., 1., 1.],\n",
              "       [1., 1., 1., 1.],\n",
              "       [1., 1., 1., 1.],\n",
              "       [1., 1., 1., 1.]])"
            ]
          },
          "metadata": {},
          "execution_count": 12
        }
      ]
    },
    {
      "cell_type": "code",
      "source": [
        "np.arange(1,10,2)"
      ],
      "metadata": {
        "colab": {
          "base_uri": "https://localhost:8080/"
        },
        "id": "98wq94a6fNyQ",
        "outputId": "57b0bb2f-5e7d-4f61-884b-f8723a35ab44"
      },
      "execution_count": null,
      "outputs": [
        {
          "output_type": "execute_result",
          "data": {
            "text/plain": [
              "array([1, 3, 5, 7, 9])"
            ]
          },
          "metadata": {},
          "execution_count": 17
        }
      ]
    },
    {
      "cell_type": "code",
      "source": [
        "arr=np.arange(10)\n",
        "arr"
      ],
      "metadata": {
        "colab": {
          "base_uri": "https://localhost:8080/"
        },
        "id": "FvcFL5_yfmDQ",
        "outputId": "43089e0a-b9f5-4831-85c6-67ff417ca4cb"
      },
      "execution_count": null,
      "outputs": [
        {
          "output_type": "execute_result",
          "data": {
            "text/plain": [
              "array([0, 1, 2, 3, 4, 5, 6, 7, 8, 9])"
            ]
          },
          "metadata": {},
          "execution_count": 19
        }
      ]
    },
    {
      "cell_type": "code",
      "source": [
        "arr[5]"
      ],
      "metadata": {
        "colab": {
          "base_uri": "https://localhost:8080/"
        },
        "id": "ZKVpGXirhE-R",
        "outputId": "b225f8f8-7e7e-4f44-a26b-9ea66980d09d"
      },
      "execution_count": null,
      "outputs": [
        {
          "output_type": "execute_result",
          "data": {
            "text/plain": [
              "5"
            ]
          },
          "metadata": {},
          "execution_count": 20
        }
      ]
    },
    {
      "cell_type": "code",
      "source": [
        "arr[5:8]"
      ],
      "metadata": {
        "colab": {
          "base_uri": "https://localhost:8080/"
        },
        "id": "vhAyHi_-hJMB",
        "outputId": "1c609ba2-306c-483a-8eed-e8a7e75c1a6c"
      },
      "execution_count": null,
      "outputs": [
        {
          "output_type": "execute_result",
          "data": {
            "text/plain": [
              "array([5, 6, 7])"
            ]
          },
          "metadata": {},
          "execution_count": 23
        }
      ]
    },
    {
      "cell_type": "code",
      "source": [
        "arr_slice=arr[5:8]\n",
        "arr_slice"
      ],
      "metadata": {
        "colab": {
          "base_uri": "https://localhost:8080/"
        },
        "id": "_2LcKrUOhQfn",
        "outputId": "6e783f8a-ea88-404b-db71-2c613c2e4291"
      },
      "execution_count": null,
      "outputs": [
        {
          "output_type": "execute_result",
          "data": {
            "text/plain": [
              "array([5, 6, 7])"
            ]
          },
          "metadata": {},
          "execution_count": 24
        }
      ]
    },
    {
      "cell_type": "code",
      "source": [
        "arr_slice[1]=123"
      ],
      "metadata": {
        "id": "44293MoOkc8Q"
      },
      "execution_count": null,
      "outputs": []
    },
    {
      "cell_type": "code",
      "source": [
        "arr_slice"
      ],
      "metadata": {
        "colab": {
          "base_uri": "https://localhost:8080/"
        },
        "id": "v4NhKVzckkl-",
        "outputId": "643fff98-788d-444b-e3db-629ffd01ce26"
      },
      "execution_count": null,
      "outputs": [
        {
          "output_type": "execute_result",
          "data": {
            "text/plain": [
              "array([  5, 123,   7])"
            ]
          },
          "metadata": {},
          "execution_count": 26
        }
      ]
    },
    {
      "cell_type": "code",
      "source": [
        "arr"
      ],
      "metadata": {
        "colab": {
          "base_uri": "https://localhost:8080/"
        },
        "id": "fy5RfBzfkmV9",
        "outputId": "1e37c8e8-ccab-4c04-c1e6-643a1e09c7e3"
      },
      "execution_count": null,
      "outputs": [
        {
          "output_type": "execute_result",
          "data": {
            "text/plain": [
              "array([  0,   1,   2,   3,   4,   5, 123,   7,   8,   9])"
            ]
          },
          "metadata": {},
          "execution_count": 27
        }
      ]
    },
    {
      "cell_type": "code",
      "source": [
        "arr_slice[:]=12345\n",
        "arr"
      ],
      "metadata": {
        "colab": {
          "base_uri": "https://localhost:8080/"
        },
        "id": "nG3h1cXhknWV",
        "outputId": "b65c8e9e-e0e9-43ec-abbc-8dcf78e4594b"
      },
      "execution_count": null,
      "outputs": [
        {
          "output_type": "execute_result",
          "data": {
            "text/plain": [
              "array([    0,     1,     2,     3,     4, 12345, 12345, 12345,     8,\n",
              "           9])"
            ]
          },
          "metadata": {},
          "execution_count": 28
        }
      ]
    },
    {
      "cell_type": "code",
      "source": [
        "arr2d=np.array([[1,2,3],[4,5,6],[7,8,9]])\n",
        "\n",
        "arr2d[2]"
      ],
      "metadata": {
        "colab": {
          "base_uri": "https://localhost:8080/"
        },
        "id": "kO5QBheYkrL1",
        "outputId": "cc35f916-596f-46ad-916b-9d05559436a1"
      },
      "execution_count": null,
      "outputs": [
        {
          "output_type": "execute_result",
          "data": {
            "text/plain": [
              "array([7, 8, 9])"
            ]
          },
          "metadata": {},
          "execution_count": 29
        }
      ]
    },
    {
      "cell_type": "code",
      "source": [
        "arr2d[1][2]"
      ],
      "metadata": {
        "colab": {
          "base_uri": "https://localhost:8080/"
        },
        "id": "Z0BPQkr6lJOn",
        "outputId": "6dfcfe48-c57c-4207-8cb2-c55b0a016916"
      },
      "execution_count": null,
      "outputs": [
        {
          "output_type": "execute_result",
          "data": {
            "text/plain": [
              "6"
            ]
          },
          "metadata": {},
          "execution_count": 31
        }
      ]
    },
    {
      "cell_type": "code",
      "source": [
        "arr3d=np.array([[[1,2,3],[4,5,6]],[[7,8,9],[10,11,12]]])\n",
        "arr3d"
      ],
      "metadata": {
        "colab": {
          "base_uri": "https://localhost:8080/"
        },
        "id": "xNfeGz-tlMtB",
        "outputId": "753cc33e-584c-41f0-ead0-6a9018780855"
      },
      "execution_count": null,
      "outputs": [
        {
          "output_type": "execute_result",
          "data": {
            "text/plain": [
              "array([[[ 1,  2,  3],\n",
              "        [ 4,  5,  6]],\n",
              "\n",
              "       [[ 7,  8,  9],\n",
              "        [10, 11, 12]]])"
            ]
          },
          "metadata": {},
          "execution_count": 32
        }
      ]
    },
    {
      "cell_type": "code",
      "source": [
        "arr3d[0]"
      ],
      "metadata": {
        "colab": {
          "base_uri": "https://localhost:8080/"
        },
        "id": "1oeybmV3mqyE",
        "outputId": "c66e473f-843f-4da7-bea0-bbce9767ad6f"
      },
      "execution_count": null,
      "outputs": [
        {
          "output_type": "execute_result",
          "data": {
            "text/plain": [
              "array([[1, 2, 3],\n",
              "       [4, 5, 6]])"
            ]
          },
          "metadata": {},
          "execution_count": 33
        }
      ]
    },
    {
      "cell_type": "code",
      "source": [
        "old_values=arr3d[0].copy()\n",
        "arr3d[0]=42\n",
        "arr3d"
      ],
      "metadata": {
        "colab": {
          "base_uri": "https://localhost:8080/"
        },
        "id": "6EcSAxUtmw3a",
        "outputId": "8e1cc1ec-a7ba-4188-8dfa-82a70cf87bf4"
      },
      "execution_count": null,
      "outputs": [
        {
          "output_type": "execute_result",
          "data": {
            "text/plain": [
              "array([[[42, 42, 42],\n",
              "        [42, 42, 42]],\n",
              "\n",
              "       [[ 7,  8,  9],\n",
              "        [10, 11, 12]]])"
            ]
          },
          "metadata": {},
          "execution_count": 34
        }
      ]
    },
    {
      "cell_type": "code",
      "source": [
        "arr3d[0]=old_values\n",
        "arr3d"
      ],
      "metadata": {
        "colab": {
          "base_uri": "https://localhost:8080/"
        },
        "id": "vLE0K007m8GQ",
        "outputId": "2a617250-13cc-4680-acde-562b475c21db"
      },
      "execution_count": null,
      "outputs": [
        {
          "output_type": "execute_result",
          "data": {
            "text/plain": [
              "array([[[ 1,  2,  3],\n",
              "        [ 4,  5,  6]],\n",
              "\n",
              "       [[ 7,  8,  9],\n",
              "        [10, 11, 12]]])"
            ]
          },
          "metadata": {},
          "execution_count": 35
        }
      ]
    },
    {
      "cell_type": "code",
      "source": [
        "arr"
      ],
      "metadata": {
        "colab": {
          "base_uri": "https://localhost:8080/"
        },
        "id": "SYztw4EbnDOf",
        "outputId": "b5bbe3cd-036c-4a9f-c9ec-01612878218b"
      },
      "execution_count": null,
      "outputs": [
        {
          "output_type": "execute_result",
          "data": {
            "text/plain": [
              "array([    0,     1,     2,     3,     4, 12345, 12345, 12345,     8,\n",
              "           9])"
            ]
          },
          "metadata": {},
          "execution_count": 36
        }
      ]
    },
    {
      "cell_type": "code",
      "source": [
        "arr[1:6]"
      ],
      "metadata": {
        "colab": {
          "base_uri": "https://localhost:8080/"
        },
        "id": "43pRuEE0nsnX",
        "outputId": "739bcbcd-7b99-4042-db8c-b6e1a23a79db"
      },
      "execution_count": null,
      "outputs": [
        {
          "output_type": "execute_result",
          "data": {
            "text/plain": [
              "array([    1,     2,     3,     4, 12345])"
            ]
          },
          "metadata": {},
          "execution_count": 37
        }
      ]
    },
    {
      "cell_type": "code",
      "source": [
        "arr2d"
      ],
      "metadata": {
        "colab": {
          "base_uri": "https://localhost:8080/"
        },
        "id": "C60FQFB-nvsm",
        "outputId": "3352383f-e484-4e2b-f35f-35a18a0ac214"
      },
      "execution_count": null,
      "outputs": [
        {
          "output_type": "execute_result",
          "data": {
            "text/plain": [
              "array([[1, 2, 3],\n",
              "       [4, 5, 6],\n",
              "       [7, 8, 9]])"
            ]
          },
          "metadata": {},
          "execution_count": 38
        }
      ]
    },
    {
      "cell_type": "code",
      "source": [
        "arr2d[:2]"
      ],
      "metadata": {
        "colab": {
          "base_uri": "https://localhost:8080/"
        },
        "id": "R6ssWarEnx3F",
        "outputId": "d0ba0551-90e6-4610-8023-2e8e8505961e"
      },
      "execution_count": null,
      "outputs": [
        {
          "output_type": "execute_result",
          "data": {
            "text/plain": [
              "array([[1, 2, 3],\n",
              "       [4, 5, 6]])"
            ]
          },
          "metadata": {},
          "execution_count": 39
        }
      ]
    },
    {
      "cell_type": "code",
      "source": [
        "arr2d[:2,1:]"
      ],
      "metadata": {
        "colab": {
          "base_uri": "https://localhost:8080/"
        },
        "id": "iKscZrAMn2W1",
        "outputId": "4279ec81-2eed-4a38-8e2c-15c452fdebaa"
      },
      "execution_count": null,
      "outputs": [
        {
          "output_type": "execute_result",
          "data": {
            "text/plain": [
              "array([[2, 3],\n",
              "       [5, 6]])"
            ]
          },
          "metadata": {},
          "execution_count": 40
        }
      ]
    },
    {
      "cell_type": "code",
      "source": [
        "names=np.array(['Bob','Joe','Will','Bob','Will','Joe','Joe'])\n",
        "data=np.random.randn(7,4)\n",
        "names"
      ],
      "metadata": {
        "colab": {
          "base_uri": "https://localhost:8080/"
        },
        "id": "b9ubSmGsoCAr",
        "outputId": "fbedfc98-f580-487d-e63c-63cb9b05e0f5"
      },
      "execution_count": null,
      "outputs": [
        {
          "output_type": "execute_result",
          "data": {
            "text/plain": [
              "array(['Bob', 'Joe', 'Will', 'Bob', 'Will', 'Joe', 'Joe'], dtype='<U4')"
            ]
          },
          "metadata": {},
          "execution_count": 41
        }
      ]
    },
    {
      "cell_type": "code",
      "source": [
        "data"
      ],
      "metadata": {
        "colab": {
          "base_uri": "https://localhost:8080/"
        },
        "id": "mM3Xl0TrpByX",
        "outputId": "b6b89292-b6a3-4b15-e1a4-6e2a9dfb8fbb"
      },
      "execution_count": null,
      "outputs": [
        {
          "output_type": "execute_result",
          "data": {
            "text/plain": [
              "array([[-0.55304421,  0.41179632, -0.75225757,  0.30501789],\n",
              "       [ 0.38963885,  1.3910213 ,  1.44189062,  0.55237093],\n",
              "       [-0.29489155,  0.67360573,  0.69075412,  1.7641949 ],\n",
              "       [-0.32194728, -2.53140759,  1.6101871 , -1.23145571],\n",
              "       [-0.70666524,  0.22744804, -0.31917576, -0.61004512],\n",
              "       [ 2.12090111,  0.76288818, -1.27931926,  0.66919797],\n",
              "       [ 1.09954216,  0.00577524,  0.79173574, -0.33077496]])"
            ]
          },
          "metadata": {},
          "execution_count": 42
        }
      ]
    },
    {
      "cell_type": "code",
      "source": [
        "data[names=='Bob']"
      ],
      "metadata": {
        "colab": {
          "base_uri": "https://localhost:8080/"
        },
        "id": "19DaKKw2pEgd",
        "outputId": "c42af50d-53e5-495d-b112-ebc4ec0b5d87"
      },
      "execution_count": null,
      "outputs": [
        {
          "output_type": "execute_result",
          "data": {
            "text/plain": [
              "array([[-0.55304421,  0.41179632, -0.75225757,  0.30501789],\n",
              "       [-0.32194728, -2.53140759,  1.6101871 , -1.23145571]])"
            ]
          },
          "metadata": {},
          "execution_count": 44
        }
      ]
    },
    {
      "cell_type": "code",
      "source": [
        "names=='Bob'"
      ],
      "metadata": {
        "colab": {
          "base_uri": "https://localhost:8080/"
        },
        "id": "bExX5auvp8Va",
        "outputId": "06def38f-15f9-43cd-e0d0-f7b491bdc26c"
      },
      "execution_count": null,
      "outputs": [
        {
          "output_type": "execute_result",
          "data": {
            "text/plain": [
              "array([ True, False, False,  True, False, False, False])"
            ]
          },
          "metadata": {},
          "execution_count": 45
        }
      ]
    },
    {
      "cell_type": "code",
      "source": [
        "data[names=='Bob',2:]"
      ],
      "metadata": {
        "colab": {
          "base_uri": "https://localhost:8080/"
        },
        "id": "vy9lpsPwqFTp",
        "outputId": "10303708-e4a9-4f35-9a76-abdff92a9dd6"
      },
      "execution_count": null,
      "outputs": [
        {
          "output_type": "execute_result",
          "data": {
            "text/plain": [
              "array([[-0.75225757,  0.30501789],\n",
              "       [ 1.6101871 , -1.23145571]])"
            ]
          },
          "metadata": {},
          "execution_count": 46
        }
      ]
    },
    {
      "cell_type": "code",
      "source": [
        "arr=np.empty((8,4))\n",
        "for i in range(8):\n",
        "    arr[i]=i\n",
        "\n",
        "arr"
      ],
      "metadata": {
        "colab": {
          "base_uri": "https://localhost:8080/"
        },
        "id": "XTNoXFZnqUr3",
        "outputId": "2f21862d-97a4-4673-c15f-3517a3755dfc"
      },
      "execution_count": null,
      "outputs": [
        {
          "output_type": "execute_result",
          "data": {
            "text/plain": [
              "array([[0., 0., 0., 0.],\n",
              "       [1., 1., 1., 1.],\n",
              "       [2., 2., 2., 2.],\n",
              "       [3., 3., 3., 3.],\n",
              "       [4., 4., 4., 4.],\n",
              "       [5., 5., 5., 5.],\n",
              "       [6., 6., 6., 6.],\n",
              "       [7., 7., 7., 7.]])"
            ]
          },
          "metadata": {},
          "execution_count": 47
        }
      ]
    },
    {
      "cell_type": "code",
      "source": [
        "arr[[4,3,0,6]]"
      ],
      "metadata": {
        "colab": {
          "base_uri": "https://localhost:8080/"
        },
        "id": "mjnQZva0sDoR",
        "outputId": "66dcc4ec-526e-4780-e806-c5721a8877c7"
      },
      "execution_count": null,
      "outputs": [
        {
          "output_type": "execute_result",
          "data": {
            "text/plain": [
              "array([[4., 4., 4., 4.],\n",
              "       [3., 3., 3., 3.],\n",
              "       [0., 0., 0., 0.],\n",
              "       [6., 6., 6., 6.]])"
            ]
          },
          "metadata": {},
          "execution_count": 53
        }
      ]
    },
    {
      "cell_type": "code",
      "source": [
        "index=[4,3,0,6]\n",
        "arr[index]"
      ],
      "metadata": {
        "colab": {
          "base_uri": "https://localhost:8080/"
        },
        "id": "86APCgcIsfgo",
        "outputId": "ab5d4819-5a61-44e5-af07-c985eb43cd66"
      },
      "execution_count": null,
      "outputs": [
        {
          "output_type": "execute_result",
          "data": {
            "text/plain": [
              "array([[4., 4., 4., 4.],\n",
              "       [3., 3., 3., 3.],\n",
              "       [0., 0., 0., 0.],\n",
              "       [6., 6., 6., 6.]])"
            ]
          },
          "metadata": {},
          "execution_count": 49
        }
      ]
    },
    {
      "cell_type": "code",
      "source": [],
      "metadata": {
        "id": "1f34xQ0XsmGA"
      },
      "execution_count": null,
      "outputs": []
    }
  ]
}