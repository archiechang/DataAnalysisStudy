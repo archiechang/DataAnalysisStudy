{
  "nbformat": 4,
  "nbformat_minor": 0,
  "metadata": {
    "colab": {
      "name": "41-50.ipynb",
      "provenance": [],
      "authorship_tag": "ABX9TyOovDsT7m/q5ns0P1ADeHXb",
      "include_colab_link": true
    },
    "kernelspec": {
      "name": "python3",
      "display_name": "Python 3"
    }
  },
  "cells": [
    {
      "cell_type": "markdown",
      "metadata": {
        "id": "view-in-github",
        "colab_type": "text"
      },
      "source": [
        "<a href=\"https://colab.research.google.com/github/archiechang/study/blob/master/Data%20Analytics/Data%20100/41-50/41-50.ipynb\" target=\"_parent\"><img src=\"https://colab.research.google.com/assets/colab-badge.svg\" alt=\"Open In Colab\"/></a>"
      ]
    },
    {
      "cell_type": "code",
      "metadata": {
        "id": "k-52_K7D-WfN"
      },
      "source": [
        "import pandas as pd"
      ],
      "execution_count": null,
      "outputs": []
    },
    {
      "cell_type": "markdown",
      "metadata": {
        "id": "zUOYAvaV_OqW"
      },
      "source": [
        "# ノック41：データを読み込んで利用データを整形しよう"
      ]
    },
    {
      "cell_type": "code",
      "metadata": {
        "id": "zlxCwB0--qWs"
      },
      "source": [
        ""
      ],
      "execution_count": null,
      "outputs": []
    }
  ]
}