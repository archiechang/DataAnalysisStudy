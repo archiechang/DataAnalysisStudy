{
  "nbformat": 4,
  "nbformat_minor": 0,
  "metadata": {
    "colab": {
      "name": "31-40.ipynb",
      "provenance": [],
      "authorship_tag": "ABX9TyOPk8GSoA0RbOcT0K63Xmbg",
      "include_colab_link": true
    },
    "kernelspec": {
      "name": "python3",
      "display_name": "Python 3"
    }
  },
  "cells": [
    {
      "cell_type": "markdown",
      "metadata": {
        "id": "view-in-github",
        "colab_type": "text"
      },
      "source": [
        "<a href=\"https://colab.research.google.com/github/archiechang/study/blob/master/Data%20Analytics/Data%20100/31-40/31_40.ipynb\" target=\"_parent\"><img src=\"https://colab.research.google.com/assets/colab-badge.svg\" alt=\"Open In Colab\"/></a>"
      ]
    },
    {
      "cell_type": "code",
      "metadata": {
        "id": "mCrYqLFIpXuk"
      },
      "source": [
        "import pandas as pd"
      ],
      "execution_count": 1,
      "outputs": []
    },
    {
      "cell_type": "markdown",
      "metadata": {
        "id": "P8Z7L-uHutUI"
      },
      "source": [
        "# ノック31：データを読み込んで確認しよう"
      ]
    },
    {
      "cell_type": "code",
      "metadata": {
        "id": "G_gFVgWepk8G"
      },
      "source": [
        "uselog=pd.read_csv(\"https://raw.githubusercontent.com/archiechang/study/master/Data%20Analytics/Data%20100/31-40/use_log.csv\")"
      ],
      "execution_count": 4,
      "outputs": []
    },
    {
      "cell_type": "code",
      "metadata": {
        "colab": {
          "base_uri": "https://localhost:8080/"
        },
        "id": "gI8uScnEsCxO",
        "outputId": "9b3d8a86-fe2f-4c1d-bc8e-424e87df9084"
      },
      "source": [
        "uselog.isnull().sum()"
      ],
      "execution_count": 5,
      "outputs": [
        {
          "output_type": "execute_result",
          "data": {
            "text/plain": [
              "log_id         0\n",
              "customer_id    0\n",
              "usedate        0\n",
              "dtype: int64"
            ]
          },
          "metadata": {
            "tags": []
          },
          "execution_count": 5
        }
      ]
    },
    {
      "cell_type": "code",
      "metadata": {
        "id": "bMpLktlot1MP"
      },
      "source": [
        "customer=pd.read_csv(\"https://raw.githubusercontent.com/archiechang/study/master/Data%20Analytics/Data%20100/31-40/customer_join.csv\")"
      ],
      "execution_count": 8,
      "outputs": []
    },
    {
      "cell_type": "code",
      "metadata": {
        "colab": {
          "base_uri": "https://localhost:8080/"
        },
        "id": "MCmbE333t5uG",
        "outputId": "3d50a641-f6ea-4290-f43f-7cc09e0a4254"
      },
      "source": [
        "customer.isnull().sum()"
      ],
      "execution_count": 9,
      "outputs": [
        {
          "output_type": "execute_result",
          "data": {
            "text/plain": [
              "customer_id             0\n",
              "name                    0\n",
              "class                   0\n",
              "gender                  0\n",
              "start_date              0\n",
              "end_date             2842\n",
              "campaign_id             0\n",
              "is_deleted              0\n",
              "class_name              0\n",
              "price                   0\n",
              "campaign_name           0\n",
              "mean                    0\n",
              "median                  0\n",
              "max                     0\n",
              "min                     0\n",
              "routine_flg             0\n",
              "calc_date               0\n",
              "membership_period       0\n",
              "dtype: int64"
            ]
          },
          "metadata": {
            "tags": []
          },
          "execution_count": 9
        }
      ]
    },
    {
      "cell_type": "markdown",
      "metadata": {
        "id": "jih3Atfxu1Pt"
      },
      "source": [
        "# ノック32：クラスタリングで顧客をグループ化しよう"
      ]
    },
    {
      "cell_type": "code",
      "metadata": {
        "colab": {
          "base_uri": "https://localhost:8080/",
          "height": 204
        },
        "id": "ila_orQBuj2Z",
        "outputId": "11c5c0d2-bb35-4ca9-b4fe-1171eaee7b8a"
      },
      "source": [
        "customer_clustering=customer[[\"mean\",\"median\",\"max\",\"min\",\"membership_period\"]]\n",
        "customer_clustering.head()"
      ],
      "execution_count": 11,
      "outputs": [
        {
          "output_type": "execute_result",
          "data": {
            "text/html": [
              "<div>\n",
              "<style scoped>\n",
              "    .dataframe tbody tr th:only-of-type {\n",
              "        vertical-align: middle;\n",
              "    }\n",
              "\n",
              "    .dataframe tbody tr th {\n",
              "        vertical-align: top;\n",
              "    }\n",
              "\n",
              "    .dataframe thead th {\n",
              "        text-align: right;\n",
              "    }\n",
              "</style>\n",
              "<table border=\"1\" class=\"dataframe\">\n",
              "  <thead>\n",
              "    <tr style=\"text-align: right;\">\n",
              "      <th></th>\n",
              "      <th>mean</th>\n",
              "      <th>median</th>\n",
              "      <th>max</th>\n",
              "      <th>min</th>\n",
              "      <th>membership_period</th>\n",
              "    </tr>\n",
              "  </thead>\n",
              "  <tbody>\n",
              "    <tr>\n",
              "      <th>0</th>\n",
              "      <td>4.833333</td>\n",
              "      <td>5.0</td>\n",
              "      <td>8</td>\n",
              "      <td>2</td>\n",
              "      <td>47</td>\n",
              "    </tr>\n",
              "    <tr>\n",
              "      <th>1</th>\n",
              "      <td>5.083333</td>\n",
              "      <td>5.0</td>\n",
              "      <td>7</td>\n",
              "      <td>3</td>\n",
              "      <td>47</td>\n",
              "    </tr>\n",
              "    <tr>\n",
              "      <th>2</th>\n",
              "      <td>4.583333</td>\n",
              "      <td>5.0</td>\n",
              "      <td>6</td>\n",
              "      <td>3</td>\n",
              "      <td>47</td>\n",
              "    </tr>\n",
              "    <tr>\n",
              "      <th>3</th>\n",
              "      <td>4.833333</td>\n",
              "      <td>4.5</td>\n",
              "      <td>7</td>\n",
              "      <td>2</td>\n",
              "      <td>47</td>\n",
              "    </tr>\n",
              "    <tr>\n",
              "      <th>4</th>\n",
              "      <td>3.916667</td>\n",
              "      <td>4.0</td>\n",
              "      <td>6</td>\n",
              "      <td>1</td>\n",
              "      <td>47</td>\n",
              "    </tr>\n",
              "  </tbody>\n",
              "</table>\n",
              "</div>"
            ],
            "text/plain": [
              "       mean  median  max  min  membership_period\n",
              "0  4.833333     5.0    8    2                 47\n",
              "1  5.083333     5.0    7    3                 47\n",
              "2  4.583333     5.0    6    3                 47\n",
              "3  4.833333     4.5    7    2                 47\n",
              "4  3.916667     4.0    6    1                 47"
            ]
          },
          "metadata": {
            "tags": []
          },
          "execution_count": 11
        }
      ]
    },
    {
      "cell_type": "code",
      "metadata": {
        "id": "WvBWlHYLvNd-"
      },
      "source": [
        "from sklearn.cluster import KMeans\n",
        "from sklearn.preprocessing import StandardScaler"
      ],
      "execution_count": 12,
      "outputs": []
    },
    {
      "cell_type": "code",
      "metadata": {
        "id": "rBGbZxI_ww0q"
      },
      "source": [
        "#標準化\n",
        "sc=StandardScaler()\n",
        "customer_clustering_sc=sc.fit_transform(customer_clustering)"
      ],
      "execution_count": 17,
      "outputs": []
    },
    {
      "cell_type": "code",
      "metadata": {
        "id": "D2C7HbZsw0ah"
      },
      "source": [
        "kmeans=KMeans(n_clusters=4,random_state=0)\n",
        "clusters=kmeans.fit(customer_clustering_sc)"
      ],
      "execution_count": 19,
      "outputs": []
    },
    {
      "cell_type": "code",
      "metadata": {
        "colab": {
          "base_uri": "https://localhost:8080/",
          "height": 323
        },
        "id": "fyQcosAzw_sw",
        "outputId": "f02b033e-6562-440f-c65b-90a78e3859e7"
      },
      "source": [
        "customer_clustering[\"cluster\"]=clusters.labels_\n",
        "print(customer_clustering[\"cluster\"].unique())\n",
        "customer_clustering.head()"
      ],
      "execution_count": 24,
      "outputs": [
        {
          "output_type": "stream",
          "text": [
            "[3 1 0 2]\n"
          ],
          "name": "stdout"
        },
        {
          "output_type": "stream",
          "text": [
            "/usr/local/lib/python3.6/dist-packages/ipykernel_launcher.py:1: SettingWithCopyWarning: \n",
            "A value is trying to be set on a copy of a slice from a DataFrame.\n",
            "Try using .loc[row_indexer,col_indexer] = value instead\n",
            "\n",
            "See the caveats in the documentation: https://pandas.pydata.org/pandas-docs/stable/user_guide/indexing.html#returning-a-view-versus-a-copy\n",
            "  \"\"\"Entry point for launching an IPython kernel.\n"
          ],
          "name": "stderr"
        },
        {
          "output_type": "execute_result",
          "data": {
            "text/html": [
              "<div>\n",
              "<style scoped>\n",
              "    .dataframe tbody tr th:only-of-type {\n",
              "        vertical-align: middle;\n",
              "    }\n",
              "\n",
              "    .dataframe tbody tr th {\n",
              "        vertical-align: top;\n",
              "    }\n",
              "\n",
              "    .dataframe thead th {\n",
              "        text-align: right;\n",
              "    }\n",
              "</style>\n",
              "<table border=\"1\" class=\"dataframe\">\n",
              "  <thead>\n",
              "    <tr style=\"text-align: right;\">\n",
              "      <th></th>\n",
              "      <th>mean</th>\n",
              "      <th>median</th>\n",
              "      <th>max</th>\n",
              "      <th>min</th>\n",
              "      <th>membership_period</th>\n",
              "      <th>cluster</th>\n",
              "    </tr>\n",
              "  </thead>\n",
              "  <tbody>\n",
              "    <tr>\n",
              "      <th>0</th>\n",
              "      <td>4.833333</td>\n",
              "      <td>5.0</td>\n",
              "      <td>8</td>\n",
              "      <td>2</td>\n",
              "      <td>47</td>\n",
              "      <td>3</td>\n",
              "    </tr>\n",
              "    <tr>\n",
              "      <th>1</th>\n",
              "      <td>5.083333</td>\n",
              "      <td>5.0</td>\n",
              "      <td>7</td>\n",
              "      <td>3</td>\n",
              "      <td>47</td>\n",
              "      <td>3</td>\n",
              "    </tr>\n",
              "    <tr>\n",
              "      <th>2</th>\n",
              "      <td>4.583333</td>\n",
              "      <td>5.0</td>\n",
              "      <td>6</td>\n",
              "      <td>3</td>\n",
              "      <td>47</td>\n",
              "      <td>3</td>\n",
              "    </tr>\n",
              "    <tr>\n",
              "      <th>3</th>\n",
              "      <td>4.833333</td>\n",
              "      <td>4.5</td>\n",
              "      <td>7</td>\n",
              "      <td>2</td>\n",
              "      <td>47</td>\n",
              "      <td>3</td>\n",
              "    </tr>\n",
              "    <tr>\n",
              "      <th>4</th>\n",
              "      <td>3.916667</td>\n",
              "      <td>4.0</td>\n",
              "      <td>6</td>\n",
              "      <td>1</td>\n",
              "      <td>47</td>\n",
              "      <td>3</td>\n",
              "    </tr>\n",
              "  </tbody>\n",
              "</table>\n",
              "</div>"
            ],
            "text/plain": [
              "       mean  median  max  min  membership_period  cluster\n",
              "0  4.833333     5.0    8    2                 47        3\n",
              "1  5.083333     5.0    7    3                 47        3\n",
              "2  4.583333     5.0    6    3                 47        3\n",
              "3  4.833333     4.5    7    2                 47        3\n",
              "4  3.916667     4.0    6    1                 47        3"
            ]
          },
          "metadata": {
            "tags": []
          },
          "execution_count": 24
        }
      ]
    },
    {
      "cell_type": "markdown",
      "metadata": {
        "id": "xC33kdwzzjSN"
      },
      "source": [
        "# ノック33：クラスタリング結果を分析しよう"
      ]
    },
    {
      "cell_type": "code",
      "metadata": {
        "colab": {
          "base_uri": "https://localhost:8080/",
          "height": 204
        },
        "id": "vBE04OIRyGFr",
        "outputId": "849921a4-e0cf-4b3f-d3a6-994a13608e90"
      },
      "source": [
        "customer_clustering.columns=[\"月内平均値\",\"月内中央値\",\"月内最大値\",\"月内最小値\",\"会員期間\",\"cluster\"]\n",
        "customer_clustering.groupby(\"cluster\").count()"
      ],
      "execution_count": 25,
      "outputs": [
        {
          "output_type": "execute_result",
          "data": {
            "text/html": [
              "<div>\n",
              "<style scoped>\n",
              "    .dataframe tbody tr th:only-of-type {\n",
              "        vertical-align: middle;\n",
              "    }\n",
              "\n",
              "    .dataframe tbody tr th {\n",
              "        vertical-align: top;\n",
              "    }\n",
              "\n",
              "    .dataframe thead th {\n",
              "        text-align: right;\n",
              "    }\n",
              "</style>\n",
              "<table border=\"1\" class=\"dataframe\">\n",
              "  <thead>\n",
              "    <tr style=\"text-align: right;\">\n",
              "      <th></th>\n",
              "      <th>月内平均値</th>\n",
              "      <th>月内中央値</th>\n",
              "      <th>月内最大値</th>\n",
              "      <th>月内最小値</th>\n",
              "      <th>会員期間</th>\n",
              "    </tr>\n",
              "    <tr>\n",
              "      <th>cluster</th>\n",
              "      <th></th>\n",
              "      <th></th>\n",
              "      <th></th>\n",
              "      <th></th>\n",
              "      <th></th>\n",
              "    </tr>\n",
              "  </thead>\n",
              "  <tbody>\n",
              "    <tr>\n",
              "      <th>0</th>\n",
              "      <td>1334</td>\n",
              "      <td>1334</td>\n",
              "      <td>1334</td>\n",
              "      <td>1334</td>\n",
              "      <td>1334</td>\n",
              "    </tr>\n",
              "    <tr>\n",
              "      <th>1</th>\n",
              "      <td>763</td>\n",
              "      <td>763</td>\n",
              "      <td>763</td>\n",
              "      <td>763</td>\n",
              "      <td>763</td>\n",
              "    </tr>\n",
              "    <tr>\n",
              "      <th>2</th>\n",
              "      <td>846</td>\n",
              "      <td>846</td>\n",
              "      <td>846</td>\n",
              "      <td>846</td>\n",
              "      <td>846</td>\n",
              "    </tr>\n",
              "    <tr>\n",
              "      <th>3</th>\n",
              "      <td>1249</td>\n",
              "      <td>1249</td>\n",
              "      <td>1249</td>\n",
              "      <td>1249</td>\n",
              "      <td>1249</td>\n",
              "    </tr>\n",
              "  </tbody>\n",
              "</table>\n",
              "</div>"
            ],
            "text/plain": [
              "         月内平均値  月内中央値  月内最大値  月内最小値  会員期間\n",
              "cluster                                  \n",
              "0         1334   1334   1334   1334  1334\n",
              "1          763    763    763    763   763\n",
              "2          846    846    846    846   846\n",
              "3         1249   1249   1249   1249  1249"
            ]
          },
          "metadata": {
            "tags": []
          },
          "execution_count": 25
        }
      ]
    },
    {
      "cell_type": "code",
      "metadata": {
        "colab": {
          "base_uri": "https://localhost:8080/",
          "height": 204
        },
        "id": "mxRMOqOWznpr",
        "outputId": "fa4f8687-db24-4184-efa8-d8c939242be3"
      },
      "source": [
        "customer_clustering.groupby(\"cluster\").mean()"
      ],
      "execution_count": 26,
      "outputs": [
        {
          "output_type": "execute_result",
          "data": {
            "text/html": [
              "<div>\n",
              "<style scoped>\n",
              "    .dataframe tbody tr th:only-of-type {\n",
              "        vertical-align: middle;\n",
              "    }\n",
              "\n",
              "    .dataframe tbody tr th {\n",
              "        vertical-align: top;\n",
              "    }\n",
              "\n",
              "    .dataframe thead th {\n",
              "        text-align: right;\n",
              "    }\n",
              "</style>\n",
              "<table border=\"1\" class=\"dataframe\">\n",
              "  <thead>\n",
              "    <tr style=\"text-align: right;\">\n",
              "      <th></th>\n",
              "      <th>月内平均値</th>\n",
              "      <th>月内中央値</th>\n",
              "      <th>月内最大値</th>\n",
              "      <th>月内最小値</th>\n",
              "      <th>会員期間</th>\n",
              "    </tr>\n",
              "    <tr>\n",
              "      <th>cluster</th>\n",
              "      <th></th>\n",
              "      <th></th>\n",
              "      <th></th>\n",
              "      <th></th>\n",
              "      <th></th>\n",
              "    </tr>\n",
              "  </thead>\n",
              "  <tbody>\n",
              "    <tr>\n",
              "      <th>0</th>\n",
              "      <td>5.524239</td>\n",
              "      <td>5.375187</td>\n",
              "      <td>8.745877</td>\n",
              "      <td>2.687406</td>\n",
              "      <td>14.843328</td>\n",
              "    </tr>\n",
              "    <tr>\n",
              "      <th>1</th>\n",
              "      <td>3.054713</td>\n",
              "      <td>2.888598</td>\n",
              "      <td>4.756225</td>\n",
              "      <td>1.653997</td>\n",
              "      <td>9.263434</td>\n",
              "    </tr>\n",
              "    <tr>\n",
              "      <th>2</th>\n",
              "      <td>8.054608</td>\n",
              "      <td>8.039598</td>\n",
              "      <td>10.009456</td>\n",
              "      <td>6.160757</td>\n",
              "      <td>7.072104</td>\n",
              "    </tr>\n",
              "    <tr>\n",
              "      <th>3</th>\n",
              "      <td>4.677494</td>\n",
              "      <td>4.671337</td>\n",
              "      <td>7.232986</td>\n",
              "      <td>2.153723</td>\n",
              "      <td>36.915933</td>\n",
              "    </tr>\n",
              "  </tbody>\n",
              "</table>\n",
              "</div>"
            ],
            "text/plain": [
              "            月内平均値     月内中央値      月内最大値     月内最小値       会員期間\n",
              "cluster                                                    \n",
              "0        5.524239  5.375187   8.745877  2.687406  14.843328\n",
              "1        3.054713  2.888598   4.756225  1.653997   9.263434\n",
              "2        8.054608  8.039598  10.009456  6.160757   7.072104\n",
              "3        4.677494  4.671337   7.232986  2.153723  36.915933"
            ]
          },
          "metadata": {
            "tags": []
          },
          "execution_count": 26
        }
      ]
    },
    {
      "cell_type": "markdown",
      "metadata": {
        "id": "hf_M1LTI08lf"
      },
      "source": [
        "# ノック34：クラスタリング結果を可視化してみよう"
      ]
    },
    {
      "cell_type": "code",
      "metadata": {
        "id": "l4Gbq0vW0jcB"
      },
      "source": [
        "from sklearn.decomposition import PCA"
      ],
      "execution_count": 27,
      "outputs": []
    },
    {
      "cell_type": "code",
      "metadata": {
        "id": "6KNIaGf81BRQ"
      },
      "source": [
        "X=customer_clustering_sc\n",
        "pca=PCA(n_components=2)\n",
        "pca.fit(X)\n",
        "x_pca=pca.transform(X)\n",
        "pca_df=pd.DataFrame(x_pca)\n",
        "pca_df[\"cluster\"]=customer_clustering[\"cluster\"]"
      ],
      "execution_count": 29,
      "outputs": []
    },
    {
      "cell_type": "code",
      "metadata": {
        "id": "eZz9g5Aw1WDc"
      },
      "source": [
        "import matplotlib.pyplot as plt\n",
        "%matplotlib inline"
      ],
      "execution_count": 30,
      "outputs": []
    },
    {
      "cell_type": "code",
      "metadata": {
        "colab": {
          "base_uri": "https://localhost:8080/",
          "height": 265
        },
        "id": "Y6f470u41uLp",
        "outputId": "b4102c21-3615-483c-fb71-fe974f07503c"
      },
      "source": [
        "for i in customer_clustering[\"cluster\"].unique():\n",
        "    tmp=pca_df.loc[pca_df[\"cluster\"]==i]\n",
        "    plt.scatter(tmp[0],tmp[1])"
      ],
      "execution_count": 41,
      "outputs": [
        {
          "output_type": "display_data",
          "data": {
            "image/png": "[encoded data removed]",
            "text/plain": [
              "<Figure size 432x288 with 1 Axes>"
            ]
          },
          "metadata": {
            "tags": [],
            "needs_background": "light"
          }
        }
      ]
    },
    {
      "cell_type": "code",
      "metadata": {
        "colab": {
          "base_uri": "https://localhost:8080/"
        },
        "id": "dvcaaAx32GhP",
        "outputId": "5e7ced86-7a02-4aae-ea45-3e86df4edf2e"
      },
      "source": [
        ""
      ],
      "execution_count": 40,
      "outputs": [
        {
          "output_type": "execute_result",
          "data": {
            "text/plain": [
              "4"
            ]
          },
          "metadata": {
            "tags": []
          },
          "execution_count": 40
        }
      ]
    },
    {
      "cell_type": "code",
      "metadata": {
        "colab": {
          "base_uri": "https://localhost:8080/",
          "height": 419
        },
        "id": "QvQmVe0Z3Gvv",
        "outputId": "a931a25d-02de-4ed2-f62d-52cae0bdee44"
      },
      "source": [
        ""
      ],
      "execution_count": 37,
      "outputs": [
        {
          "output_type": "execute_result",
          "data": {
            "text/html": [
              "<div>\n",
              "<style scoped>\n",
              "    .dataframe tbody tr th:only-of-type {\n",
              "        vertical-align: middle;\n",
              "    }\n",
              "\n",
              "    .dataframe tbody tr th {\n",
              "        vertical-align: top;\n",
              "    }\n",
              "\n",
              "    .dataframe thead th {\n",
              "        text-align: right;\n",
              "    }\n",
              "</style>\n",
              "<table border=\"1\" class=\"dataframe\">\n",
              "  <thead>\n",
              "    <tr style=\"text-align: right;\">\n",
              "      <th></th>\n",
              "      <th>0</th>\n",
              "      <th>1</th>\n",
              "      <th>cluster</th>\n",
              "    </tr>\n",
              "  </thead>\n",
              "  <tbody>\n",
              "    <tr>\n",
              "      <th>0</th>\n",
              "      <td>-0.819982</td>\n",
              "      <td>-1.959097</td>\n",
              "      <td>3</td>\n",
              "    </tr>\n",
              "    <tr>\n",
              "      <th>1</th>\n",
              "      <td>-0.707922</td>\n",
              "      <td>-1.799857</td>\n",
              "      <td>3</td>\n",
              "    </tr>\n",
              "    <tr>\n",
              "      <th>2</th>\n",
              "      <td>-1.061499</td>\n",
              "      <td>-1.659826</td>\n",
              "      <td>3</td>\n",
              "    </tr>\n",
              "    <tr>\n",
              "      <th>3</th>\n",
              "      <td>-1.160764</td>\n",
              "      <td>-1.810139</td>\n",
              "      <td>3</td>\n",
              "    </tr>\n",
              "    <tr>\n",
              "      <th>4</th>\n",
              "      <td>-2.017132</td>\n",
              "      <td>-1.670101</td>\n",
              "      <td>3</td>\n",
              "    </tr>\n",
              "    <tr>\n",
              "      <th>...</th>\n",
              "      <td>...</td>\n",
              "      <td>...</td>\n",
              "      <td>...</td>\n",
              "    </tr>\n",
              "    <tr>\n",
              "      <th>4187</th>\n",
              "      <td>3.027933</td>\n",
              "      <td>1.139635</td>\n",
              "      <td>2</td>\n",
              "    </tr>\n",
              "    <tr>\n",
              "      <th>4188</th>\n",
              "      <td>5.064720</td>\n",
              "      <td>0.769684</td>\n",
              "      <td>2</td>\n",
              "    </tr>\n",
              "    <tr>\n",
              "      <th>4189</th>\n",
              "      <td>3.027933</td>\n",
              "      <td>1.139635</td>\n",
              "      <td>2</td>\n",
              "    </tr>\n",
              "    <tr>\n",
              "      <th>4190</th>\n",
              "      <td>6.083114</td>\n",
              "      <td>0.584708</td>\n",
              "      <td>2</td>\n",
              "    </tr>\n",
              "    <tr>\n",
              "      <th>4191</th>\n",
              "      <td>5.064720</td>\n",
              "      <td>0.769684</td>\n",
              "      <td>2</td>\n",
              "    </tr>\n",
              "  </tbody>\n",
              "</table>\n",
              "<p>4192 rows × 3 columns</p>\n",
              "</div>"
            ],
            "text/plain": [
              "             0         1  cluster\n",
              "0    -0.819982 -1.959097        3\n",
              "1    -0.707922 -1.799857        3\n",
              "2    -1.061499 -1.659826        3\n",
              "3    -1.160764 -1.810139        3\n",
              "4    -2.017132 -1.670101        3\n",
              "...        ...       ...      ...\n",
              "4187  3.027933  1.139635        2\n",
              "4188  5.064720  0.769684        2\n",
              "4189  3.027933  1.139635        2\n",
              "4190  6.083114  0.584708        2\n",
              "4191  5.064720  0.769684        2\n",
              "\n",
              "[4192 rows x 3 columns]"
            ]
          },
          "metadata": {
            "tags": []
          },
          "execution_count": 37
        }
      ]
    },
    {
      "cell_type": "code",
      "metadata": {
        "id": "jJr5-Huv3Nzo"
      },
      "source": [
        ""
      ],
      "execution_count": null,
      "outputs": []
    }
  ]
}